{
 "cells": [
  {
   "cell_type": "markdown",
   "id": "fd2a3aba-7104-4d0b-abc6-c9d0e33b778c",
   "metadata": {},
   "source": [
    "## Importing libraries"
   ]
  },
  {
   "cell_type": "code",
   "execution_count": 1,
   "id": "8beda51a-fc47-4a0c-990b-2fde81ad0734",
   "metadata": {},
   "outputs": [],
   "source": [
    "import re\n",
    "import string\n",
    "import numpy as np\n",
    "import pandas as pd\n",
    "import matplotlib.pyplot as plt\n",
    "import seaborn as sns\n",
    "from textblob import TextBlob\n",
    "from wordcloud import WordCloud, STOPWORDS\n",
    "import nltk\n",
    "from nltk.corpus import stopwords\n",
    "from nltk.stem import WordNetLemmatizer\n",
    "from tqdm.notebook import tqdm as tt\n",
    "\n",
    "\n",
    "import warnings\n",
    "warnings.filterwarnings(\"ignore\")\n",
    "\n",
    "%matplotlib inline"
   ]
  },
  {
   "cell_type": "markdown",
   "id": "ad1e7e53-526d-48fc-b02c-773d692ca5b1",
   "metadata": {},
   "source": [
    "## Data Analysis"
   ]
  },
  {
   "cell_type": "code",
   "execution_count": 2,
   "id": "b8e9880e-d26e-4bc0-b0ea-5c752d50f1af",
   "metadata": {},
   "outputs": [
    {
     "data": {
      "text/html": [
       "<div>\n",
       "<style scoped>\n",
       "    .dataframe tbody tr th:only-of-type {\n",
       "        vertical-align: middle;\n",
       "    }\n",
       "\n",
       "    .dataframe tbody tr th {\n",
       "        vertical-align: top;\n",
       "    }\n",
       "\n",
       "    .dataframe thead th {\n",
       "        text-align: right;\n",
       "    }\n",
       "</style>\n",
       "<table border=\"1\" class=\"dataframe\">\n",
       "  <thead>\n",
       "    <tr style=\"text-align: right;\">\n",
       "      <th></th>\n",
       "      <th>textID</th>\n",
       "      <th>text</th>\n",
       "      <th>sentiment</th>\n",
       "    </tr>\n",
       "  </thead>\n",
       "  <tbody>\n",
       "    <tr>\n",
       "      <th>0</th>\n",
       "      <td>2a0463352b</td>\n",
       "      <td>that`s enough! I`ll do nothing for 2 hours.</td>\n",
       "      <td>neutral</td>\n",
       "    </tr>\n",
       "    <tr>\n",
       "      <th>1</th>\n",
       "      <td>f358968122</td>\n",
       "      <td>I have to go clothes shopping tomorrow  I hate...</td>\n",
       "      <td>negative</td>\n",
       "    </tr>\n",
       "    <tr>\n",
       "      <th>2</th>\n",
       "      <td>449e7733f1</td>\n",
       "      <td>i am bored. :| any idea`s of a nice site?</td>\n",
       "      <td>neutral</td>\n",
       "    </tr>\n",
       "    <tr>\n",
       "      <th>3</th>\n",
       "      <td>6099baf6e8</td>\n",
       "      <td>I don`t think  will want to come back  (guys r...</td>\n",
       "      <td>negative</td>\n",
       "    </tr>\n",
       "    <tr>\n",
       "      <th>4</th>\n",
       "      <td>f946da7a04</td>\n",
       "      <td>_thomas if only the drinking game was tonight....</td>\n",
       "      <td>neutral</td>\n",
       "    </tr>\n",
       "  </tbody>\n",
       "</table>\n",
       "</div>"
      ],
      "text/plain": [
       "       textID                                               text sentiment\n",
       "0  2a0463352b        that`s enough! I`ll do nothing for 2 hours.   neutral\n",
       "1  f358968122  I have to go clothes shopping tomorrow  I hate...  negative\n",
       "2  449e7733f1          i am bored. :| any idea`s of a nice site?   neutral\n",
       "3  6099baf6e8  I don`t think  will want to come back  (guys r...  negative\n",
       "4  f946da7a04  _thomas if only the drinking game was tonight....   neutral"
      ]
     },
     "execution_count": 2,
     "metadata": {},
     "output_type": "execute_result"
    }
   ],
   "source": [
    "# Reading the .csv file\n",
    "data = pd.read_csv(r\"D:\\Data\\Basic_Sentiment_Classification\\data\\data.csv\")\n",
    "data.head()"
   ]
  },
  {
   "cell_type": "code",
   "execution_count": 3,
   "id": "658ee597-f2c0-4188-b0e8-2e7cacacd946",
   "metadata": {},
   "outputs": [
    {
     "data": {
      "text/plain": [
       "(18899, 3)"
      ]
     },
     "execution_count": 3,
     "metadata": {},
     "output_type": "execute_result"
    }
   ],
   "source": [
    "# cheking to see the number of data points we have\n",
    "data.shape"
   ]
  },
  {
   "cell_type": "code",
   "execution_count": 4,
   "id": "f67044be-69f4-4e05-ab31-cfd5d0e64241",
   "metadata": {},
   "outputs": [
    {
     "data": {
      "text/plain": [
       "'woke up way later than I intended to today  Need to start getting to bed before 5 a.m. b/c this will be a bad habit to break later'"
      ]
     },
     "execution_count": 4,
     "metadata": {},
     "output_type": "execute_result"
    }
   ],
   "source": [
    "# taking a look at a random text to see how it looks \n",
    "data.loc[50, 'text']"
   ]
  },
  {
   "cell_type": "code",
   "execution_count": 5,
   "id": "aa739aee-2e9a-4dff-b361-019ff2e15fcf",
   "metadata": {},
   "outputs": [
    {
     "data": {
      "text/plain": [
       "neutral     11118\n",
       "negative     7781\n",
       "Name: sentiment, dtype: int64"
      ]
     },
     "execution_count": 5,
     "metadata": {},
     "output_type": "execute_result"
    }
   ],
   "source": [
    "# Looking at the Data distribution\n",
    "data['sentiment'].value_counts()\n",
    "# Not the best but, seems fairly balanced"
   ]
  },
  {
   "cell_type": "code",
   "execution_count": 6,
   "id": "8020d411-f796-4bcb-be98-ed3cc1a4bfa0",
   "metadata": {},
   "outputs": [
    {
     "data": {
      "text/plain": [
       "<AxesSubplot:xlabel='sentiment', ylabel='count'>"
      ]
     },
     "execution_count": 6,
     "metadata": {},
     "output_type": "execute_result"
    },
    {
     "data": {
      "image/png": "[encoded data removed]",
      "text/plain": [
       "<Figure size 720x360 with 1 Axes>"
      ]
     },
     "metadata": {
      "needs_background": "light"
     },
     "output_type": "display_data"
    }
   ],
   "source": [
    "plt.figure(figsize = (10, 5))\n",
    "sns.countplot(x = 'sentiment', data = data, palette = ['grey', 'red'] )"
   ]
  },
  {
   "cell_type": "code",
   "execution_count": 7,
   "id": "f964c481-8a34-4b23-85c2-3f8a563c71c4",
   "metadata": {},
   "outputs": [
    {
     "data": {
      "text/html": [
       "<div>\n",
       "<style scoped>\n",
       "    .dataframe tbody tr th:only-of-type {\n",
       "        vertical-align: middle;\n",
       "    }\n",
       "\n",
       "    .dataframe tbody tr th {\n",
       "        vertical-align: top;\n",
       "    }\n",
       "\n",
       "    .dataframe thead th {\n",
       "        text-align: right;\n",
       "    }\n",
       "</style>\n",
       "<table border=\"1\" class=\"dataframe\">\n",
       "  <thead>\n",
       "    <tr style=\"text-align: right;\">\n",
       "      <th></th>\n",
       "      <th>textID</th>\n",
       "      <th>text</th>\n",
       "      <th>sentiment</th>\n",
       "    </tr>\n",
       "  </thead>\n",
       "  <tbody>\n",
       "    <tr>\n",
       "      <th>count</th>\n",
       "      <td>18899</td>\n",
       "      <td>18898</td>\n",
       "      <td>18899</td>\n",
       "    </tr>\n",
       "    <tr>\n",
       "      <th>unique</th>\n",
       "      <td>18899</td>\n",
       "      <td>18888</td>\n",
       "      <td>2</td>\n",
       "    </tr>\n",
       "    <tr>\n",
       "      <th>top</th>\n",
       "      <td>2a0463352b</td>\n",
       "      <td>I see</td>\n",
       "      <td>neutral</td>\n",
       "    </tr>\n",
       "    <tr>\n",
       "      <th>freq</th>\n",
       "      <td>1</td>\n",
       "      <td>2</td>\n",
       "      <td>11118</td>\n",
       "    </tr>\n",
       "  </tbody>\n",
       "</table>\n",
       "</div>"
      ],
      "text/plain": [
       "            textID   text sentiment\n",
       "count        18899  18898     18899\n",
       "unique       18899  18888         2\n",
       "top     2a0463352b  I see   neutral\n",
       "freq             1      2     11118"
      ]
     },
     "execution_count": 7,
     "metadata": {},
     "output_type": "execute_result"
    }
   ],
   "source": [
    "data.describe()"
   ]
  },
  {
   "cell_type": "code",
   "execution_count": 8,
   "id": "748ce532-690d-4466-b212-4281030a0449",
   "metadata": {},
   "outputs": [
    {
     "name": "stdout",
     "output_type": "stream",
     "text": [
      "<class 'pandas.core.frame.DataFrame'>\n",
      "RangeIndex: 18899 entries, 0 to 18898\n",
      "Data columns (total 3 columns):\n",
      " #   Column     Non-Null Count  Dtype \n",
      "---  ------     --------------  ----- \n",
      " 0   textID     18899 non-null  object\n",
      " 1   text       18898 non-null  object\n",
      " 2   sentiment  18899 non-null  object\n",
      "dtypes: object(3)\n",
      "memory usage: 443.1+ KB\n"
     ]
    }
   ],
   "source": [
    "# Finding out the number of null values it may contain\n",
    "data.info()\n",
    "# There seems to be one"
   ]
  },
  {
   "cell_type": "code",
   "execution_count": 9,
   "id": "78a8f0f6-69b7-41be-8bef-64ea42e1920f",
   "metadata": {},
   "outputs": [
    {
     "data": {
      "text/html": [
       "<div>\n",
       "<style scoped>\n",
       "    .dataframe tbody tr th:only-of-type {\n",
       "        vertical-align: middle;\n",
       "    }\n",
       "\n",
       "    .dataframe tbody tr th {\n",
       "        vertical-align: top;\n",
       "    }\n",
       "\n",
       "    .dataframe thead th {\n",
       "        text-align: right;\n",
       "    }\n",
       "</style>\n",
       "<table border=\"1\" class=\"dataframe\">\n",
       "  <thead>\n",
       "    <tr style=\"text-align: right;\">\n",
       "      <th></th>\n",
       "      <th>textID</th>\n",
       "      <th>text</th>\n",
       "      <th>sentiment</th>\n",
       "    </tr>\n",
       "  </thead>\n",
       "  <tbody>\n",
       "    <tr>\n",
       "      <th>8384</th>\n",
       "      <td>fdb77c3752</td>\n",
       "      <td>NaN</td>\n",
       "      <td>neutral</td>\n",
       "    </tr>\n",
       "  </tbody>\n",
       "</table>\n",
       "</div>"
      ],
      "text/plain": [
       "          textID text sentiment\n",
       "8384  fdb77c3752  NaN   neutral"
      ]
     },
     "execution_count": 9,
     "metadata": {},
     "output_type": "execute_result"
    }
   ],
   "source": [
    "# Taking a look at the null value\n",
    "data[data['text'].isnull()]"
   ]
  },
  {
   "cell_type": "code",
   "execution_count": 10,
   "id": "9d3b7481-47d0-4ef0-9ec7-f7dc48ded131",
   "metadata": {},
   "outputs": [],
   "source": [
    "# Removing the Null value\n",
    "data.dropna(inplace = True)\n",
    "# Dropping duplicates\n",
    "data.drop_duplicates(inplace = True)"
   ]
  },
  {
   "cell_type": "code",
   "execution_count": 11,
   "id": "169eb162-1032-4e19-a3e7-3e5573307646",
   "metadata": {},
   "outputs": [
    {
     "data": {
      "text/html": [
       "<div>\n",
       "<style scoped>\n",
       "    .dataframe tbody tr th:only-of-type {\n",
       "        vertical-align: middle;\n",
       "    }\n",
       "\n",
       "    .dataframe tbody tr th {\n",
       "        vertical-align: top;\n",
       "    }\n",
       "\n",
       "    .dataframe thead th {\n",
       "        text-align: right;\n",
       "    }\n",
       "</style>\n",
       "<table border=\"1\" class=\"dataframe\">\n",
       "  <thead>\n",
       "    <tr style=\"text-align: right;\">\n",
       "      <th></th>\n",
       "      <th>textID</th>\n",
       "      <th>text</th>\n",
       "      <th>sentiment</th>\n",
       "      <th>Num_words</th>\n",
       "    </tr>\n",
       "  </thead>\n",
       "  <tbody>\n",
       "    <tr>\n",
       "      <th>0</th>\n",
       "      <td>2a0463352b</td>\n",
       "      <td>that`s enough! I`ll do nothing for 2 hours.</td>\n",
       "      <td>neutral</td>\n",
       "      <td>8</td>\n",
       "    </tr>\n",
       "    <tr>\n",
       "      <th>1</th>\n",
       "      <td>f358968122</td>\n",
       "      <td>I have to go clothes shopping tomorrow  I hate...</td>\n",
       "      <td>negative</td>\n",
       "      <td>20</td>\n",
       "    </tr>\n",
       "    <tr>\n",
       "      <th>2</th>\n",
       "      <td>449e7733f1</td>\n",
       "      <td>i am bored. :| any idea`s of a nice site?</td>\n",
       "      <td>neutral</td>\n",
       "      <td>10</td>\n",
       "    </tr>\n",
       "    <tr>\n",
       "      <th>3</th>\n",
       "      <td>6099baf6e8</td>\n",
       "      <td>I don`t think  will want to come back  (guys r...</td>\n",
       "      <td>negative</td>\n",
       "      <td>12</td>\n",
       "    </tr>\n",
       "    <tr>\n",
       "      <th>4</th>\n",
       "      <td>f946da7a04</td>\n",
       "      <td>_thomas if only the drinking game was tonight....</td>\n",
       "      <td>neutral</td>\n",
       "      <td>15</td>\n",
       "    </tr>\n",
       "    <tr>\n",
       "      <th>...</th>\n",
       "      <td>...</td>\n",
       "      <td>...</td>\n",
       "      <td>...</td>\n",
       "      <td>...</td>\n",
       "    </tr>\n",
       "    <tr>\n",
       "      <th>18894</th>\n",
       "      <td>4fdc228bbe</td>\n",
       "      <td>back at school again. almost weekend. oh wait,...</td>\n",
       "      <td>neutral</td>\n",
       "      <td>16</td>\n",
       "    </tr>\n",
       "    <tr>\n",
       "      <th>18895</th>\n",
       "      <td>07726716b7</td>\n",
       "      <td>Bit devastated that I lost my entire documents...</td>\n",
       "      <td>negative</td>\n",
       "      <td>13</td>\n",
       "    </tr>\n",
       "    <tr>\n",
       "      <th>18896</th>\n",
       "      <td>082b93228a</td>\n",
       "      <td>Last night in Australia</td>\n",
       "      <td>neutral</td>\n",
       "      <td>4</td>\n",
       "    </tr>\n",
       "    <tr>\n",
       "      <th>18897</th>\n",
       "      <td>82d99a5bec</td>\n",
       "      <td>painting</td>\n",
       "      <td>neutral</td>\n",
       "      <td>1</td>\n",
       "    </tr>\n",
       "    <tr>\n",
       "      <th>18898</th>\n",
       "      <td>add3a63b8a</td>\n",
       "      <td>Is in bed not able to sleep  bloody bipolar!</td>\n",
       "      <td>negative</td>\n",
       "      <td>9</td>\n",
       "    </tr>\n",
       "  </tbody>\n",
       "</table>\n",
       "<p>18898 rows × 4 columns</p>\n",
       "</div>"
      ],
      "text/plain": [
       "           textID                                               text  \\\n",
       "0      2a0463352b        that`s enough! I`ll do nothing for 2 hours.   \n",
       "1      f358968122  I have to go clothes shopping tomorrow  I hate...   \n",
       "2      449e7733f1          i am bored. :| any idea`s of a nice site?   \n",
       "3      6099baf6e8  I don`t think  will want to come back  (guys r...   \n",
       "4      f946da7a04  _thomas if only the drinking game was tonight....   \n",
       "...           ...                                                ...   \n",
       "18894  4fdc228bbe  back at school again. almost weekend. oh wait,...   \n",
       "18895  07726716b7  Bit devastated that I lost my entire documents...   \n",
       "18896  082b93228a                            Last night in Australia   \n",
       "18897  82d99a5bec                                           painting   \n",
       "18898  add3a63b8a       Is in bed not able to sleep  bloody bipolar!   \n",
       "\n",
       "      sentiment  Num_words  \n",
       "0       neutral          8  \n",
       "1      negative         20  \n",
       "2       neutral         10  \n",
       "3      negative         12  \n",
       "4       neutral         15  \n",
       "...         ...        ...  \n",
       "18894   neutral         16  \n",
       "18895  negative         13  \n",
       "18896   neutral          4  \n",
       "18897   neutral          1  \n",
       "18898  negative          9  \n",
       "\n",
       "[18898 rows x 4 columns]"
      ]
     },
     "execution_count": 11,
     "metadata": {},
     "output_type": "execute_result"
    }
   ],
   "source": [
    "# Create a new column to keep track of the number of words in the text\n",
    "data['Num_words'] = ((data['text'].str.split()).str.len()).astype('int')\n",
    "data"
   ]
  },
  {
   "cell_type": "code",
   "execution_count": 12,
   "id": "36a7515c-7e94-4f1a-8320-14f01c4c2e63",
   "metadata": {},
   "outputs": [
    {
     "data": {
      "text/html": [
       "<div>\n",
       "<style scoped>\n",
       "    .dataframe tbody tr th:only-of-type {\n",
       "        vertical-align: middle;\n",
       "    }\n",
       "\n",
       "    .dataframe tbody tr th {\n",
       "        vertical-align: top;\n",
       "    }\n",
       "\n",
       "    .dataframe thead th {\n",
       "        text-align: right;\n",
       "    }\n",
       "</style>\n",
       "<table border=\"1\" class=\"dataframe\">\n",
       "  <thead>\n",
       "    <tr style=\"text-align: right;\">\n",
       "      <th></th>\n",
       "      <th>textID</th>\n",
       "      <th>text</th>\n",
       "      <th>sentiment</th>\n",
       "      <th>Num_words</th>\n",
       "      <th>negative</th>\n",
       "    </tr>\n",
       "  </thead>\n",
       "  <tbody>\n",
       "    <tr>\n",
       "      <th>0</th>\n",
       "      <td>2a0463352b</td>\n",
       "      <td>that`s enough! I`ll do nothing for 2 hours.</td>\n",
       "      <td>neutral</td>\n",
       "      <td>8</td>\n",
       "      <td>0</td>\n",
       "    </tr>\n",
       "    <tr>\n",
       "      <th>1</th>\n",
       "      <td>f358968122</td>\n",
       "      <td>I have to go clothes shopping tomorrow  I hate...</td>\n",
       "      <td>negative</td>\n",
       "      <td>20</td>\n",
       "      <td>1</td>\n",
       "    </tr>\n",
       "    <tr>\n",
       "      <th>2</th>\n",
       "      <td>449e7733f1</td>\n",
       "      <td>i am bored. :| any idea`s of a nice site?</td>\n",
       "      <td>neutral</td>\n",
       "      <td>10</td>\n",
       "      <td>0</td>\n",
       "    </tr>\n",
       "    <tr>\n",
       "      <th>3</th>\n",
       "      <td>6099baf6e8</td>\n",
       "      <td>I don`t think  will want to come back  (guys r...</td>\n",
       "      <td>negative</td>\n",
       "      <td>12</td>\n",
       "      <td>1</td>\n",
       "    </tr>\n",
       "    <tr>\n",
       "      <th>4</th>\n",
       "      <td>f946da7a04</td>\n",
       "      <td>_thomas if only the drinking game was tonight....</td>\n",
       "      <td>neutral</td>\n",
       "      <td>15</td>\n",
       "      <td>0</td>\n",
       "    </tr>\n",
       "    <tr>\n",
       "      <th>...</th>\n",
       "      <td>...</td>\n",
       "      <td>...</td>\n",
       "      <td>...</td>\n",
       "      <td>...</td>\n",
       "      <td>...</td>\n",
       "    </tr>\n",
       "    <tr>\n",
       "      <th>18894</th>\n",
       "      <td>4fdc228bbe</td>\n",
       "      <td>back at school again. almost weekend. oh wait,...</td>\n",
       "      <td>neutral</td>\n",
       "      <td>16</td>\n",
       "      <td>0</td>\n",
       "    </tr>\n",
       "    <tr>\n",
       "      <th>18895</th>\n",
       "      <td>07726716b7</td>\n",
       "      <td>Bit devastated that I lost my entire documents...</td>\n",
       "      <td>negative</td>\n",
       "      <td>13</td>\n",
       "      <td>1</td>\n",
       "    </tr>\n",
       "    <tr>\n",
       "      <th>18896</th>\n",
       "      <td>082b93228a</td>\n",
       "      <td>Last night in Australia</td>\n",
       "      <td>neutral</td>\n",
       "      <td>4</td>\n",
       "      <td>0</td>\n",
       "    </tr>\n",
       "    <tr>\n",
       "      <th>18897</th>\n",
       "      <td>82d99a5bec</td>\n",
       "      <td>painting</td>\n",
       "      <td>neutral</td>\n",
       "      <td>1</td>\n",
       "      <td>0</td>\n",
       "    </tr>\n",
       "    <tr>\n",
       "      <th>18898</th>\n",
       "      <td>add3a63b8a</td>\n",
       "      <td>Is in bed not able to sleep  bloody bipolar!</td>\n",
       "      <td>negative</td>\n",
       "      <td>9</td>\n",
       "      <td>1</td>\n",
       "    </tr>\n",
       "  </tbody>\n",
       "</table>\n",
       "<p>18898 rows × 5 columns</p>\n",
       "</div>"
      ],
      "text/plain": [
       "           textID                                               text  \\\n",
       "0      2a0463352b        that`s enough! I`ll do nothing for 2 hours.   \n",
       "1      f358968122  I have to go clothes shopping tomorrow  I hate...   \n",
       "2      449e7733f1          i am bored. :| any idea`s of a nice site?   \n",
       "3      6099baf6e8  I don`t think  will want to come back  (guys r...   \n",
       "4      f946da7a04  _thomas if only the drinking game was tonight....   \n",
       "...           ...                                                ...   \n",
       "18894  4fdc228bbe  back at school again. almost weekend. oh wait,...   \n",
       "18895  07726716b7  Bit devastated that I lost my entire documents...   \n",
       "18896  082b93228a                            Last night in Australia   \n",
       "18897  82d99a5bec                                           painting   \n",
       "18898  add3a63b8a       Is in bed not able to sleep  bloody bipolar!   \n",
       "\n",
       "      sentiment  Num_words  negative  \n",
       "0       neutral          8         0  \n",
       "1      negative         20         1  \n",
       "2       neutral         10         0  \n",
       "3      negative         12         1  \n",
       "4       neutral         15         0  \n",
       "...         ...        ...       ...  \n",
       "18894   neutral         16         0  \n",
       "18895  negative         13         1  \n",
       "18896   neutral          4         0  \n",
       "18897   neutral          1         0  \n",
       "18898  negative          9         1  \n",
       "\n",
       "[18898 rows x 5 columns]"
      ]
     },
     "execution_count": 12,
     "metadata": {},
     "output_type": "execute_result"
    }
   ],
   "source": [
    "# Adding a new boolean column which states if the text is negative or not using one-hot encoding\n",
    "\n",
    "data['negative'] = pd.get_dummies(data['sentiment'])['negative']\n",
    "data"
   ]
  },
  {
   "cell_type": "code",
   "execution_count": 13,
   "id": "3681c9be-682a-45c7-95bc-1bca99cae30b",
   "metadata": {},
   "outputs": [
    {
     "data": {
      "text/plain": [
       "Text(0.5, 1.0, 'Number of words by Sentiment')"
      ]
     },
     "execution_count": 13,
     "metadata": {},
     "output_type": "execute_result"
    },
    {
     "data": {
      "image/png": "[encoded data removed]",
      "text/plain": [
       "<Figure size 864x432 with 1 Axes>"
      ]
     },
     "metadata": {
      "needs_background": "light"
     },
     "output_type": "display_data"
    }
   ],
   "source": [
    "#plot a density plot to see the distribution of words across sentiments \n",
    "\n",
    "plt.figure(figsize = (12,6))\n",
    "p1 = sns.kdeplot(data[data['sentiment'] == 'neutral']['Num_words'], shade = True, color = \"k\")\n",
    "    \n",
    "p2 = sns.kdeplot(data[data['sentiment'] == 'negative']['Num_words'], shade = True, color = \"r\")\n",
    "\n",
    "plt.legend(data['sentiment'])\n",
    "plt.title(\"Number of words by Sentiment\")"
   ]
  },
  {
   "cell_type": "markdown",
   "id": "c90ec3e3-09ad-48b9-9e19-a0d33b07b7c0",
   "metadata": {},
   "source": [
    "<font size=\"4\">\n",
    "----------------------------------------------------------------------------------------------------------------------------------------------\n",
    "This plot shows that the \"negative\" text is typically longer\n",
    "\n",
    "</font>"
   ]
  },
  {
   "cell_type": "markdown",
   "id": "b146af76-7f7e-4c15-850c-c17ee35a7f8d",
   "metadata": {},
   "source": [
    "## Data preprocessing"
   ]
  },
  {
   "cell_type": "code",
   "execution_count": 14,
   "id": "9866b81c-922d-4164-a621-7bdc24bd1696",
   "metadata": {},
   "outputs": [],
   "source": [
    "#creating a function for cleaning our data\n",
    "\n",
    "def clean_text(text):\n",
    "    text = text.lower() # converting everything to lowercase\n",
    "    text = re.sub(\"\\`\", \"'\", text) # Replacing the weird apostraphe with the typical one\n",
    "    text = re.sub(\"[^a-zA-Z ]+\", '', text) # Removing any punctuations\n",
    "    text = re.sub('\\w*\\d\\w*', '', text) # Removing any digits\n",
    "    \n",
    "    return text"
   ]
  },
  {
   "cell_type": "code",
   "execution_count": 15,
   "id": "657891ee-bac3-49fa-b6a1-a75d648e8e70",
   "metadata": {},
   "outputs": [],
   "source": [
    "data_cleaned = data.copy()"
   ]
  },
  {
   "cell_type": "code",
   "execution_count": 16,
   "id": "c9c1b1a8-e4a8-4642-b24e-beeb9e59cc37",
   "metadata": {},
   "outputs": [],
   "source": [
    "data_cleaned['text'] = data_cleaned['text'].apply(lambda x : clean_text(x))"
   ]
  },
  {
   "cell_type": "code",
   "execution_count": 17,
   "id": "7e724651-a069-4091-be5f-0420f904ae56",
   "metadata": {},
   "outputs": [
    {
     "data": {
      "text/plain": [
       "0                    thats enough ill do nothing for hours\n",
       "1        i have to go clothe shop tomorrow i hate it bu...\n",
       "2                       i be bore any ideas of a nice site\n",
       "3        i dont think will want to come back guy read y...\n",
       "4        thomas if only the drink game be tonighti dont...\n",
       "                               ...                        \n",
       "18894    back at school again almost weekend oh wait i ...\n",
       "18895    bite devastate that i lose my entire document ...\n",
       "18896                              last night in australia\n",
       "18897                                                paint\n",
       "18898           be in bed not able to sleep bloody bipolar\n",
       "Name: text, Length: 18898, dtype: object"
      ]
     },
     "execution_count": 17,
     "metadata": {},
     "output_type": "execute_result"
    }
   ],
   "source": [
    "w_tokenizer = nltk.tokenize.WhitespaceTokenizer()\n",
    "lemmatizer = nltk.stem.WordNetLemmatizer()\n",
    "\n",
    "def lemmatize_text(text):\n",
    "    return ' '.join([lemmatizer.lemmatize(w,'v') for w in w_tokenizer.tokenize(text)])\n",
    "\n",
    "\n",
    "data_cleaned['text'] = data_cleaned.text.apply(lemmatize_text)\n",
    "data_cleaned['text']"
   ]
  },
  {
   "cell_type": "code",
   "execution_count": 18,
   "id": "fa82f01e-0125-4c89-aa57-6414b2625cb3",
   "metadata": {},
   "outputs": [
    {
     "data": {
      "text/plain": [
       "0                           thats enough ill nothing hours\n",
       "1        clothe shop tomorrow hate serious clothe fall ...\n",
       "2                                     bore ideas nice site\n",
       "3                   dont think want come back guy read dms\n",
       "4            thomas drink game tonighti dont till tomorrow\n",
       "                               ...                        \n",
       "18894    back school almost weekend oh wait gotta eight...\n",
       "18895    bite devastate lose entire document folder hom...\n",
       "18896                                 last night australia\n",
       "18897                                                paint\n",
       "18898                        bed able sleep bloody bipolar\n",
       "Name: text, Length: 18898, dtype: object"
      ]
     },
     "execution_count": 18,
     "metadata": {},
     "output_type": "execute_result"
    }
   ],
   "source": [
    "# removing stopwords (common words which don't add much meaning to the sentence like \"I\", \"The\" )\n",
    "stop = stopwords.words('english')\n",
    "new_stopwords = [\"i'm\", \"im\", \"u\", \"get\", \"go\", \"work\", \"day\", \"today\", \"one\"]\n",
    "stop.extend(new_stopwords)\n",
    "data_cleaned['text'] = data_cleaned['text'].apply(lambda x : ' '.join([item for item in x.split() if item not in stop]))\n",
    "data_cleaned['text']"
   ]
  },
  {
   "cell_type": "code",
   "execution_count": 19,
   "id": "b9a5b006-eaae-4724-a0d9-3e1794a41734",
   "metadata": {},
   "outputs": [],
   "source": [
    "# Adding a new column with the words split  \n",
    "data_cleaned['temp_list'] = data_cleaned['text'].apply(lambda x : str(x).split())"
   ]
  },
  {
   "cell_type": "code",
   "execution_count": 20,
   "id": "ed53a3a8-debf-4eb0-93e0-987d4091c0c2",
   "metadata": {},
   "outputs": [
    {
     "data": {
      "text/plain": [
       "'wake way later intend need start bed bc bad habit break later'"
      ]
     },
     "execution_count": 20,
     "metadata": {},
     "output_type": "execute_result"
    }
   ],
   "source": [
    "# Let's take a look at the text we saw before to see how it changed\n",
    "data_cleaned.loc[50, 'text']\n",
    "# Looks like it did the job"
   ]
  },
  {
   "cell_type": "code",
   "execution_count": 21,
   "id": "4950bb43-c65c-410c-bcd2-74d8cafdbe26",
   "metadata": {},
   "outputs": [
    {
     "data": {
      "text/html": [
       "<div>\n",
       "<style scoped>\n",
       "    .dataframe tbody tr th:only-of-type {\n",
       "        vertical-align: middle;\n",
       "    }\n",
       "\n",
       "    .dataframe tbody tr th {\n",
       "        vertical-align: top;\n",
       "    }\n",
       "\n",
       "    .dataframe thead th {\n",
       "        text-align: right;\n",
       "    }\n",
       "</style>\n",
       "<table border=\"1\" class=\"dataframe\">\n",
       "  <thead>\n",
       "    <tr style=\"text-align: right;\">\n",
       "      <th></th>\n",
       "      <th>textID</th>\n",
       "      <th>text</th>\n",
       "      <th>sentiment</th>\n",
       "      <th>Num_words</th>\n",
       "      <th>negative</th>\n",
       "      <th>temp_list</th>\n",
       "    </tr>\n",
       "  </thead>\n",
       "  <tbody>\n",
       "    <tr>\n",
       "      <th>0</th>\n",
       "      <td>2a0463352b</td>\n",
       "      <td>thats enough ill nothing hours</td>\n",
       "      <td>neutral</td>\n",
       "      <td>5</td>\n",
       "      <td>0</td>\n",
       "      <td>[thats, enough, ill, nothing, hours]</td>\n",
       "    </tr>\n",
       "    <tr>\n",
       "      <th>1</th>\n",
       "      <td>f358968122</td>\n",
       "      <td>clothe shop tomorrow hate serious clothe fall ...</td>\n",
       "      <td>negative</td>\n",
       "      <td>9</td>\n",
       "      <td>1</td>\n",
       "      <td>[clothe, shop, tomorrow, hate, serious, clothe...</td>\n",
       "    </tr>\n",
       "    <tr>\n",
       "      <th>2</th>\n",
       "      <td>449e7733f1</td>\n",
       "      <td>bore ideas nice site</td>\n",
       "      <td>neutral</td>\n",
       "      <td>4</td>\n",
       "      <td>0</td>\n",
       "      <td>[bore, ideas, nice, site]</td>\n",
       "    </tr>\n",
       "    <tr>\n",
       "      <th>3</th>\n",
       "      <td>6099baf6e8</td>\n",
       "      <td>dont think want come back guy read dms</td>\n",
       "      <td>negative</td>\n",
       "      <td>8</td>\n",
       "      <td>1</td>\n",
       "      <td>[dont, think, want, come, back, guy, read, dms]</td>\n",
       "    </tr>\n",
       "    <tr>\n",
       "      <th>4</th>\n",
       "      <td>f946da7a04</td>\n",
       "      <td>thomas drink game tonighti dont till tomorrow</td>\n",
       "      <td>neutral</td>\n",
       "      <td>7</td>\n",
       "      <td>0</td>\n",
       "      <td>[thomas, drink, game, tonighti, dont, till, to...</td>\n",
       "    </tr>\n",
       "    <tr>\n",
       "      <th>...</th>\n",
       "      <td>...</td>\n",
       "      <td>...</td>\n",
       "      <td>...</td>\n",
       "      <td>...</td>\n",
       "      <td>...</td>\n",
       "      <td>...</td>\n",
       "    </tr>\n",
       "    <tr>\n",
       "      <th>18894</th>\n",
       "      <td>4fdc228bbe</td>\n",
       "      <td>back school almost weekend oh wait gotta eight...</td>\n",
       "      <td>neutral</td>\n",
       "      <td>10</td>\n",
       "      <td>0</td>\n",
       "      <td>[back, school, almost, weekend, oh, wait, gott...</td>\n",
       "    </tr>\n",
       "    <tr>\n",
       "      <th>18895</th>\n",
       "      <td>07726716b7</td>\n",
       "      <td>bite devastate lose entire document folder hom...</td>\n",
       "      <td>negative</td>\n",
       "      <td>8</td>\n",
       "      <td>1</td>\n",
       "      <td>[bite, devastate, lose, entire, document, fold...</td>\n",
       "    </tr>\n",
       "    <tr>\n",
       "      <th>18896</th>\n",
       "      <td>082b93228a</td>\n",
       "      <td>last night australia</td>\n",
       "      <td>neutral</td>\n",
       "      <td>3</td>\n",
       "      <td>0</td>\n",
       "      <td>[last, night, australia]</td>\n",
       "    </tr>\n",
       "    <tr>\n",
       "      <th>18897</th>\n",
       "      <td>82d99a5bec</td>\n",
       "      <td>paint</td>\n",
       "      <td>neutral</td>\n",
       "      <td>1</td>\n",
       "      <td>0</td>\n",
       "      <td>[paint]</td>\n",
       "    </tr>\n",
       "    <tr>\n",
       "      <th>18898</th>\n",
       "      <td>add3a63b8a</td>\n",
       "      <td>bed able sleep bloody bipolar</td>\n",
       "      <td>negative</td>\n",
       "      <td>5</td>\n",
       "      <td>1</td>\n",
       "      <td>[bed, able, sleep, bloody, bipolar]</td>\n",
       "    </tr>\n",
       "  </tbody>\n",
       "</table>\n",
       "<p>18898 rows × 6 columns</p>\n",
       "</div>"
      ],
      "text/plain": [
       "           textID                                               text  \\\n",
       "0      2a0463352b                     thats enough ill nothing hours   \n",
       "1      f358968122  clothe shop tomorrow hate serious clothe fall ...   \n",
       "2      449e7733f1                               bore ideas nice site   \n",
       "3      6099baf6e8             dont think want come back guy read dms   \n",
       "4      f946da7a04      thomas drink game tonighti dont till tomorrow   \n",
       "...           ...                                                ...   \n",
       "18894  4fdc228bbe  back school almost weekend oh wait gotta eight...   \n",
       "18895  07726716b7  bite devastate lose entire document folder hom...   \n",
       "18896  082b93228a                               last night australia   \n",
       "18897  82d99a5bec                                              paint   \n",
       "18898  add3a63b8a                      bed able sleep bloody bipolar   \n",
       "\n",
       "      sentiment  Num_words  negative  \\\n",
       "0       neutral          5         0   \n",
       "1      negative          9         1   \n",
       "2       neutral          4         0   \n",
       "3      negative          8         1   \n",
       "4       neutral          7         0   \n",
       "...         ...        ...       ...   \n",
       "18894   neutral         10         0   \n",
       "18895  negative          8         1   \n",
       "18896   neutral          3         0   \n",
       "18897   neutral          1         0   \n",
       "18898  negative          5         1   \n",
       "\n",
       "                                               temp_list  \n",
       "0                   [thats, enough, ill, nothing, hours]  \n",
       "1      [clothe, shop, tomorrow, hate, serious, clothe...  \n",
       "2                              [bore, ideas, nice, site]  \n",
       "3        [dont, think, want, come, back, guy, read, dms]  \n",
       "4      [thomas, drink, game, tonighti, dont, till, to...  \n",
       "...                                                  ...  \n",
       "18894  [back, school, almost, weekend, oh, wait, gott...  \n",
       "18895  [bite, devastate, lose, entire, document, fold...  \n",
       "18896                           [last, night, australia]  \n",
       "18897                                            [paint]  \n",
       "18898                [bed, able, sleep, bloody, bipolar]  \n",
       "\n",
       "[18898 rows x 6 columns]"
      ]
     },
     "execution_count": 21,
     "metadata": {},
     "output_type": "execute_result"
    }
   ],
   "source": [
    "# Re-evaluating the \"Num_words\" column after cleaning the data\n",
    "data_cleaned['Num_words'] = ((data_cleaned['text'].str.split()).str.len()).astype('int')\n",
    "data_cleaned"
   ]
  },
  {
   "cell_type": "code",
   "execution_count": 22,
   "id": "a0f8932a-3d81-4512-b8b8-9c9c2595b72c",
   "metadata": {},
   "outputs": [
    {
     "data": {
      "text/html": [
       "<style type=\"text/css\">\n",
       "#T_03dfc_row0_col1 {\n",
       "  background-color: #800026;\n",
       "  color: #f1f1f1;\n",
       "}\n",
       "#T_03dfc_row1_col1 {\n",
       "  background-color: #820026;\n",
       "  color: #f1f1f1;\n",
       "}\n",
       "#T_03dfc_row2_col1 {\n",
       "  background-color: #c40524;\n",
       "  color: #f1f1f1;\n",
       "}\n",
       "#T_03dfc_row3_col1 {\n",
       "  background-color: #ef3323;\n",
       "  color: #f1f1f1;\n",
       "}\n",
       "#T_03dfc_row4_col1 {\n",
       "  background-color: #f74327;\n",
       "  color: #f1f1f1;\n",
       "}\n",
       "#T_03dfc_row5_col1 {\n",
       "  background-color: #fc5b2e;\n",
       "  color: #f1f1f1;\n",
       "}\n",
       "#T_03dfc_row6_col1 {\n",
       "  background-color: #fd7435;\n",
       "  color: #f1f1f1;\n",
       "}\n",
       "#T_03dfc_row7_col1 {\n",
       "  background-color: #fd7c37;\n",
       "  color: #f1f1f1;\n",
       "}\n",
       "#T_03dfc_row8_col1 {\n",
       "  background-color: #feb04b;\n",
       "  color: #000000;\n",
       "}\n",
       "#T_03dfc_row9_col1 {\n",
       "  background-color: #feb44e;\n",
       "  color: #000000;\n",
       "}\n",
       "#T_03dfc_row10_col1 {\n",
       "  background-color: #febd57;\n",
       "  color: #000000;\n",
       "}\n",
       "#T_03dfc_row11_col1 {\n",
       "  background-color: #febe59;\n",
       "  color: #000000;\n",
       "}\n",
       "#T_03dfc_row12_col1 {\n",
       "  background-color: #fed36f;\n",
       "  color: #000000;\n",
       "}\n",
       "#T_03dfc_row13_col1 {\n",
       "  background-color: #feda78;\n",
       "  color: #000000;\n",
       "}\n",
       "#T_03dfc_row14_col1 {\n",
       "  background-color: #ffefa4;\n",
       "  color: #000000;\n",
       "}\n",
       "#T_03dfc_row15_col1 {\n",
       "  background-color: #fff1ab;\n",
       "  color: #000000;\n",
       "}\n",
       "#T_03dfc_row16_col1 {\n",
       "  background-color: #fff3af;\n",
       "  color: #000000;\n",
       "}\n",
       "#T_03dfc_row17_col1 {\n",
       "  background-color: #fff9be;\n",
       "  color: #000000;\n",
       "}\n",
       "#T_03dfc_row18_col1 {\n",
       "  background-color: #fffcc5;\n",
       "  color: #000000;\n",
       "}\n",
       "#T_03dfc_row19_col1 {\n",
       "  background-color: #ffffcc;\n",
       "  color: #000000;\n",
       "}\n",
       "</style>\n",
       "<table id=\"T_03dfc\">\n",
       "  <thead>\n",
       "    <tr>\n",
       "      <th class=\"blank level0\" >&nbsp;</th>\n",
       "      <th id=\"T_03dfc_level0_col0\" class=\"col_heading level0 col0\" >Common_words</th>\n",
       "      <th id=\"T_03dfc_level0_col1\" class=\"col_heading level0 col1\" >count</th>\n",
       "    </tr>\n",
       "  </thead>\n",
       "  <tbody>\n",
       "    <tr>\n",
       "      <th id=\"T_03dfc_level0_row0\" class=\"row_heading level0 row0\" >0</th>\n",
       "      <td id=\"T_03dfc_row0_col0\" class=\"data row0 col0\" >like</td>\n",
       "      <td id=\"T_03dfc_row0_col1\" class=\"data row0 col1\" >964</td>\n",
       "    </tr>\n",
       "    <tr>\n",
       "      <th id=\"T_03dfc_level0_row1\" class=\"row_heading level0 row1\" >1</th>\n",
       "      <td id=\"T_03dfc_row1_col0\" class=\"data row1 col0\" >dont</td>\n",
       "      <td id=\"T_03dfc_row1_col1\" class=\"data row1 col1\" >961</td>\n",
       "    </tr>\n",
       "    <tr>\n",
       "      <th id=\"T_03dfc_level0_row2\" class=\"row_heading level0 row2\" >2</th>\n",
       "      <td id=\"T_03dfc_row2_col0\" class=\"data row2 col0\" >miss</td>\n",
       "      <td id=\"T_03dfc_row2_col1\" class=\"data row2 col1\" >891</td>\n",
       "    </tr>\n",
       "    <tr>\n",
       "      <th id=\"T_03dfc_level0_row3\" class=\"row_heading level0 row3\" >3</th>\n",
       "      <td id=\"T_03dfc_row3_col0\" class=\"data row3 col0\" >cant</td>\n",
       "      <td id=\"T_03dfc_row3_col1\" class=\"data row3 col1\" >815</td>\n",
       "    </tr>\n",
       "    <tr>\n",
       "      <th id=\"T_03dfc_level0_row4\" class=\"row_heading level0 row4\" >4</th>\n",
       "      <td id=\"T_03dfc_row4_col0\" class=\"data row4 col0\" >think</td>\n",
       "      <td id=\"T_03dfc_row4_col1\" class=\"data row4 col1\" >796</td>\n",
       "    </tr>\n",
       "    <tr>\n",
       "      <th id=\"T_03dfc_level0_row5\" class=\"row_heading level0 row5\" >5</th>\n",
       "      <td id=\"T_03dfc_row5_col0\" class=\"data row5 col0\" >want</td>\n",
       "      <td id=\"T_03dfc_row5_col1\" class=\"data row5 col1\" >772</td>\n",
       "    </tr>\n",
       "    <tr>\n",
       "      <th id=\"T_03dfc_level0_row6\" class=\"row_heading level0 row6\" >6</th>\n",
       "      <td id=\"T_03dfc_row6_col0\" class=\"data row6 col0\" >know</td>\n",
       "      <td id=\"T_03dfc_row6_col1\" class=\"data row6 col1\" >747</td>\n",
       "    </tr>\n",
       "    <tr>\n",
       "      <th id=\"T_03dfc_level0_row7\" class=\"row_heading level0 row7\" >7</th>\n",
       "      <td id=\"T_03dfc_row7_col0\" class=\"data row7 col0\" >time</td>\n",
       "      <td id=\"T_03dfc_row7_col1\" class=\"data row7 col1\" >739</td>\n",
       "    </tr>\n",
       "    <tr>\n",
       "      <th id=\"T_03dfc_level0_row8\" class=\"row_heading level0 row8\" >8</th>\n",
       "      <td id=\"T_03dfc_row8_col0\" class=\"data row8 col0\" >feel</td>\n",
       "      <td id=\"T_03dfc_row8_col1\" class=\"data row8 col1\" >667</td>\n",
       "    </tr>\n",
       "    <tr>\n",
       "      <th id=\"T_03dfc_level0_row9\" class=\"row_heading level0 row9\" >9</th>\n",
       "      <td id=\"T_03dfc_row9_col0\" class=\"data row9 col0\" >see</td>\n",
       "      <td id=\"T_03dfc_row9_col1\" class=\"data row9 col1\" >660</td>\n",
       "    </tr>\n",
       "    <tr>\n",
       "      <th id=\"T_03dfc_level0_row10\" class=\"row_heading level0 row10\" >10</th>\n",
       "      <td id=\"T_03dfc_row10_col0\" class=\"data row10 col0\" >back</td>\n",
       "      <td id=\"T_03dfc_row10_col1\" class=\"data row10 col1\" >647</td>\n",
       "    </tr>\n",
       "    <tr>\n",
       "      <th id=\"T_03dfc_level0_row11\" class=\"row_heading level0 row11\" >11</th>\n",
       "      <td id=\"T_03dfc_row11_col0\" class=\"data row11 col0\" >make</td>\n",
       "      <td id=\"T_03dfc_row11_col1\" class=\"data row11 col1\" >646</td>\n",
       "    </tr>\n",
       "    <tr>\n",
       "      <th id=\"T_03dfc_level0_row12\" class=\"row_heading level0 row12\" >12</th>\n",
       "      <td id=\"T_03dfc_row12_col0\" class=\"data row12 col0\" >lol</td>\n",
       "      <td id=\"T_03dfc_row12_col1\" class=\"data row12 col1\" >613</td>\n",
       "    </tr>\n",
       "    <tr>\n",
       "      <th id=\"T_03dfc_level0_row13\" class=\"row_heading level0 row13\" >13</th>\n",
       "      <td id=\"T_03dfc_row13_col0\" class=\"data row13 col0\" >really</td>\n",
       "      <td id=\"T_03dfc_row13_col1\" class=\"data row13 col1\" >601</td>\n",
       "    </tr>\n",
       "    <tr>\n",
       "      <th id=\"T_03dfc_level0_row14\" class=\"row_heading level0 row14\" >14</th>\n",
       "      <td id=\"T_03dfc_row14_col0\" class=\"data row14 col0\" >need</td>\n",
       "      <td id=\"T_03dfc_row14_col1\" class=\"data row14 col1\" >539</td>\n",
       "    </tr>\n",
       "    <tr>\n",
       "      <th id=\"T_03dfc_level0_row15\" class=\"row_heading level0 row15\" >15</th>\n",
       "      <td id=\"T_03dfc_row15_col0\" class=\"data row15 col0\" >home</td>\n",
       "      <td id=\"T_03dfc_row15_col1\" class=\"data row15 col1\" >529</td>\n",
       "    </tr>\n",
       "    <tr>\n",
       "      <th id=\"T_03dfc_level0_row16\" class=\"row_heading level0 row16\" >16</th>\n",
       "      <td id=\"T_03dfc_row16_col0\" class=\"data row16 col0\" >still</td>\n",
       "      <td id=\"T_03dfc_row16_col1\" class=\"data row16 col1\" >524</td>\n",
       "    </tr>\n",
       "    <tr>\n",
       "      <th id=\"T_03dfc_level0_row17\" class=\"row_heading level0 row17\" >17</th>\n",
       "      <td id=\"T_03dfc_row17_col0\" class=\"data row17 col0\" >good</td>\n",
       "      <td id=\"T_03dfc_row17_col1\" class=\"data row17 col1\" >503</td>\n",
       "    </tr>\n",
       "    <tr>\n",
       "      <th id=\"T_03dfc_level0_row18\" class=\"row_heading level0 row18\" >18</th>\n",
       "      <td id=\"T_03dfc_row18_col0\" class=\"data row18 col0\" >come</td>\n",
       "      <td id=\"T_03dfc_row18_col1\" class=\"data row18 col1\" >494</td>\n",
       "    </tr>\n",
       "    <tr>\n",
       "      <th id=\"T_03dfc_level0_row19\" class=\"row_heading level0 row19\" >19</th>\n",
       "      <td id=\"T_03dfc_row19_col0\" class=\"data row19 col0\" >well</td>\n",
       "      <td id=\"T_03dfc_row19_col1\" class=\"data row19 col1\" >483</td>\n",
       "    </tr>\n",
       "  </tbody>\n",
       "</table>\n"
      ],
      "text/plain": [
       "<pandas.io.formats.style.Styler at 0x16bda898ca0>"
      ]
     },
     "execution_count": 22,
     "metadata": {},
     "output_type": "execute_result"
    }
   ],
   "source": [
    "from collections import Counter\n",
    "\n",
    "#Finding the top words used in this dataset\n",
    "top = Counter([item for sublist in data_cleaned['temp_list'] for item in sublist])\n",
    "temp = pd.DataFrame(top.most_common(20))\n",
    "temp.columns = ['Common_words','count']\n",
    "temp.style.background_gradient(cmap = \"YlOrRd\")"
   ]
  },
  {
   "cell_type": "code",
   "execution_count": 23,
   "id": "7e52d5eb-aaf9-43bc-a285-78d0304de589",
   "metadata": {},
   "outputs": [],
   "source": [
    "# Finding the top words by sentiment\n",
    "\n",
    "Negative_sentiment = data_cleaned[data_cleaned['sentiment'] == 'negative']\n",
    "Neutral_sentiment = data_cleaned[data_cleaned['sentiment'] == 'neutral']"
   ]
  },
  {
   "cell_type": "code",
   "execution_count": 24,
   "id": "48a5b3fa-52b5-4d1c-a091-e06386973918",
   "metadata": {},
   "outputs": [
    {
     "data": {
      "text/html": [
       "<style type=\"text/css\">\n",
       "#T_3ba27_row0_col1 {\n",
       "  background-color: #000000;\n",
       "  color: #f1f1f1;\n",
       "}\n",
       "#T_3ba27_row1_col1 {\n",
       "  background-color: #181818;\n",
       "  color: #f1f1f1;\n",
       "}\n",
       "#T_3ba27_row2_col1 {\n",
       "  background-color: #242424;\n",
       "  color: #f1f1f1;\n",
       "}\n",
       "#T_3ba27_row3_col1 {\n",
       "  background-color: #383838;\n",
       "  color: #f1f1f1;\n",
       "}\n",
       "#T_3ba27_row4_col1 {\n",
       "  background-color: #3f3f3f;\n",
       "  color: #f1f1f1;\n",
       "}\n",
       "#T_3ba27_row5_col1 {\n",
       "  background-color: #434343;\n",
       "  color: #f1f1f1;\n",
       "}\n",
       "#T_3ba27_row6_col1 {\n",
       "  background-color: #4b4b4b;\n",
       "  color: #f1f1f1;\n",
       "}\n",
       "#T_3ba27_row7_col1 {\n",
       "  background-color: #545454;\n",
       "  color: #f1f1f1;\n",
       "}\n",
       "#T_3ba27_row8_col1 {\n",
       "  background-color: #757575;\n",
       "  color: #f1f1f1;\n",
       "}\n",
       "#T_3ba27_row9_col1 {\n",
       "  background-color: #bebebe;\n",
       "  color: #000000;\n",
       "}\n",
       "#T_3ba27_row10_col1 {\n",
       "  background-color: #c9c9c9;\n",
       "  color: #000000;\n",
       "}\n",
       "#T_3ba27_row11_col1 {\n",
       "  background-color: #d3d3d3;\n",
       "  color: #000000;\n",
       "}\n",
       "#T_3ba27_row12_col1 {\n",
       "  background-color: #e0e0e0;\n",
       "  color: #000000;\n",
       "}\n",
       "#T_3ba27_row13_col1 {\n",
       "  background-color: #e5e5e5;\n",
       "  color: #000000;\n",
       "}\n",
       "#T_3ba27_row14_col1 {\n",
       "  background-color: #efefef;\n",
       "  color: #000000;\n",
       "}\n",
       "#T_3ba27_row15_col1 {\n",
       "  background-color: #f2f2f2;\n",
       "  color: #000000;\n",
       "}\n",
       "#T_3ba27_row16_col1 {\n",
       "  background-color: #f4f4f4;\n",
       "  color: #000000;\n",
       "}\n",
       "#T_3ba27_row17_col1 {\n",
       "  background-color: #f8f8f8;\n",
       "  color: #000000;\n",
       "}\n",
       "#T_3ba27_row18_col1 {\n",
       "  background-color: #f9f9f9;\n",
       "  color: #000000;\n",
       "}\n",
       "#T_3ba27_row19_col1 {\n",
       "  background-color: #ffffff;\n",
       "  color: #000000;\n",
       "}\n",
       "</style>\n",
       "<table id=\"T_3ba27\">\n",
       "  <thead>\n",
       "    <tr>\n",
       "      <th class=\"blank level0\" >&nbsp;</th>\n",
       "      <th id=\"T_3ba27_level0_col0\" class=\"col_heading level0 col0\" >Common_words</th>\n",
       "      <th id=\"T_3ba27_level0_col1\" class=\"col_heading level0 col1\" >count</th>\n",
       "    </tr>\n",
       "  </thead>\n",
       "  <tbody>\n",
       "    <tr>\n",
       "      <th id=\"T_3ba27_level0_row0\" class=\"row_heading level0 row0\" >0</th>\n",
       "      <td id=\"T_3ba27_row0_col0\" class=\"data row0 col0\" >dont</td>\n",
       "      <td id=\"T_3ba27_row0_col1\" class=\"data row0 col1\" >493</td>\n",
       "    </tr>\n",
       "    <tr>\n",
       "      <th id=\"T_3ba27_level0_row1\" class=\"row_heading level0 row1\" >1</th>\n",
       "      <td id=\"T_3ba27_row1_col0\" class=\"data row1 col0\" >like</td>\n",
       "      <td id=\"T_3ba27_row1_col1\" class=\"data row1 col1\" >475</td>\n",
       "    </tr>\n",
       "    <tr>\n",
       "      <th id=\"T_3ba27_level0_row2\" class=\"row_heading level0 row2\" >2</th>\n",
       "      <td id=\"T_3ba27_row2_col0\" class=\"data row2 col0\" >time</td>\n",
       "      <td id=\"T_3ba27_row2_col1\" class=\"data row2 col1\" >467</td>\n",
       "    </tr>\n",
       "    <tr>\n",
       "      <th id=\"T_3ba27_level0_row3\" class=\"row_heading level0 row3\" >3</th>\n",
       "      <td id=\"T_3ba27_row3_col0\" class=\"data row3 col0\" >lol</td>\n",
       "      <td id=\"T_3ba27_row3_col1\" class=\"data row3 col1\" >455</td>\n",
       "    </tr>\n",
       "    <tr>\n",
       "      <th id=\"T_3ba27_level0_row4\" class=\"row_heading level0 row4\" >4</th>\n",
       "      <td id=\"T_3ba27_row4_col0\" class=\"data row4 col0\" >know</td>\n",
       "      <td id=\"T_3ba27_row4_col1\" class=\"data row4 col1\" >451</td>\n",
       "    </tr>\n",
       "    <tr>\n",
       "      <th id=\"T_3ba27_level0_row5\" class=\"row_heading level0 row5\" >5</th>\n",
       "      <td id=\"T_3ba27_row5_col0\" class=\"data row5 col0\" >want</td>\n",
       "      <td id=\"T_3ba27_row5_col1\" class=\"data row5 col1\" >449</td>\n",
       "    </tr>\n",
       "    <tr>\n",
       "      <th id=\"T_3ba27_level0_row6\" class=\"row_heading level0 row6\" >6</th>\n",
       "      <td id=\"T_3ba27_row6_col0\" class=\"data row6 col0\" >think</td>\n",
       "      <td id=\"T_3ba27_row6_col1\" class=\"data row6 col1\" >444</td>\n",
       "    </tr>\n",
       "    <tr>\n",
       "      <th id=\"T_3ba27_level0_row7\" class=\"row_heading level0 row7\" >7</th>\n",
       "      <td id=\"T_3ba27_row7_col0\" class=\"data row7 col0\" >see</td>\n",
       "      <td id=\"T_3ba27_row7_col1\" class=\"data row7 col1\" >438</td>\n",
       "    </tr>\n",
       "    <tr>\n",
       "      <th id=\"T_3ba27_level0_row8\" class=\"row_heading level0 row8\" >8</th>\n",
       "      <td id=\"T_3ba27_row8_col0\" class=\"data row8 col0\" >back</td>\n",
       "      <td id=\"T_3ba27_row8_col1\" class=\"data row8 col1\" >412</td>\n",
       "    </tr>\n",
       "    <tr>\n",
       "      <th id=\"T_3ba27_level0_row9\" class=\"row_heading level0 row9\" >9</th>\n",
       "      <td id=\"T_3ba27_row9_col0\" class=\"data row9 col0\" >make</td>\n",
       "      <td id=\"T_3ba27_row9_col1\" class=\"data row9 col1\" >359</td>\n",
       "    </tr>\n",
       "    <tr>\n",
       "      <th id=\"T_3ba27_level0_row10\" class=\"row_heading level0 row10\" >10</th>\n",
       "      <td id=\"T_3ba27_row10_col0\" class=\"data row10 col0\" >cant</td>\n",
       "      <td id=\"T_3ba27_row10_col1\" class=\"data row10 col1\" >349</td>\n",
       "    </tr>\n",
       "    <tr>\n",
       "      <th id=\"T_3ba27_level0_row11\" class=\"row_heading level0 row11\" >11</th>\n",
       "      <td id=\"T_3ba27_row11_col0\" class=\"data row11 col0\" >home</td>\n",
       "      <td id=\"T_3ba27_row11_col1\" class=\"data row11 col1\" >340</td>\n",
       "    </tr>\n",
       "    <tr>\n",
       "      <th id=\"T_3ba27_level0_row12\" class=\"row_heading level0 row12\" >12</th>\n",
       "      <td id=\"T_3ba27_row12_col0\" class=\"data row12 col0\" >need</td>\n",
       "      <td id=\"T_3ba27_row12_col1\" class=\"data row12 col1\" >326</td>\n",
       "    </tr>\n",
       "    <tr>\n",
       "      <th id=\"T_3ba27_level0_row13\" class=\"row_heading level0 row13\" >13</th>\n",
       "      <td id=\"T_3ba27_row13_col0\" class=\"data row13 col0\" >new</td>\n",
       "      <td id=\"T_3ba27_row13_col1\" class=\"data row13 col1\" >320</td>\n",
       "    </tr>\n",
       "    <tr>\n",
       "      <th id=\"T_3ba27_level0_row14\" class=\"row_heading level0 row14\" >14</th>\n",
       "      <td id=\"T_3ba27_row14_col0\" class=\"data row14 col0\" >come</td>\n",
       "      <td id=\"T_3ba27_row14_col1\" class=\"data row14 col1\" >309</td>\n",
       "    </tr>\n",
       "    <tr>\n",
       "      <th id=\"T_3ba27_level0_row15\" class=\"row_heading level0 row15\" >15</th>\n",
       "      <td id=\"T_3ba27_row15_col0\" class=\"data row15 col0\" >watch</td>\n",
       "      <td id=\"T_3ba27_row15_col1\" class=\"data row15 col1\" >305</td>\n",
       "    </tr>\n",
       "    <tr>\n",
       "      <th id=\"T_3ba27_level0_row16\" class=\"row_heading level0 row16\" >16</th>\n",
       "      <td id=\"T_3ba27_row16_col0\" class=\"data row16 col0\" >good</td>\n",
       "      <td id=\"T_3ba27_row16_col1\" class=\"data row16 col1\" >301</td>\n",
       "    </tr>\n",
       "    <tr>\n",
       "      <th id=\"T_3ba27_level0_row17\" class=\"row_heading level0 row17\" >17</th>\n",
       "      <td id=\"T_3ba27_row17_col0\" class=\"data row17 col0\" >say</td>\n",
       "      <td id=\"T_3ba27_row17_col1\" class=\"data row17 col1\" >293</td>\n",
       "    </tr>\n",
       "    <tr>\n",
       "      <th id=\"T_3ba27_level0_row18\" class=\"row_heading level0 row18\" >18</th>\n",
       "      <td id=\"T_3ba27_row18_col0\" class=\"data row18 col0\" >well</td>\n",
       "      <td id=\"T_3ba27_row18_col1\" class=\"data row18 col1\" >292</td>\n",
       "    </tr>\n",
       "    <tr>\n",
       "      <th id=\"T_3ba27_level0_row19\" class=\"row_heading level0 row19\" >19</th>\n",
       "      <td id=\"T_3ba27_row19_col0\" class=\"data row19 col0\" >still</td>\n",
       "      <td id=\"T_3ba27_row19_col1\" class=\"data row19 col1\" >281</td>\n",
       "    </tr>\n",
       "  </tbody>\n",
       "</table>\n"
      ],
      "text/plain": [
       "<pandas.io.formats.style.Styler at 0x16be4e79f70>"
      ]
     },
     "execution_count": 24,
     "metadata": {},
     "output_type": "execute_result"
    }
   ],
   "source": [
    "#Most common neutral words\n",
    "top_neu = Counter([item for sublist in Neutral_sentiment['temp_list'] for item in sublist])\n",
    "temp_neutral = pd.DataFrame(top_neu.most_common(20))\n",
    "temp_neutral.columns = ['Common_words','count']\n",
    "temp_neutral.style.background_gradient(cmap = 'Greys')"
   ]
  },
  {
   "cell_type": "code",
   "execution_count": 25,
   "id": "bf88b625-d930-4130-a3c0-30ee6b40fb1d",
   "metadata": {},
   "outputs": [
    {
     "data": {
      "text/html": [
       "<style type=\"text/css\">\n",
       "#T_5b26a_row0_col1 {\n",
       "  background-color: #67000d;\n",
       "  color: #f1f1f1;\n",
       "}\n",
       "#T_5b26a_row1_col1 {\n",
       "  background-color: #f14331;\n",
       "  color: #f1f1f1;\n",
       "}\n",
       "#T_5b26a_row2_col1 {\n",
       "  background-color: #f6553c;\n",
       "  color: #f1f1f1;\n",
       "}\n",
       "#T_5b26a_row3_col1, #T_5b26a_row4_col1 {\n",
       "  background-color: #f6563d;\n",
       "  color: #f1f1f1;\n",
       "}\n",
       "#T_5b26a_row5_col1 {\n",
       "  background-color: #fc9272;\n",
       "  color: #000000;\n",
       "}\n",
       "#T_5b26a_row6_col1 {\n",
       "  background-color: #fcae92;\n",
       "  color: #000000;\n",
       "}\n",
       "#T_5b26a_row7_col1, #T_5b26a_row8_col1 {\n",
       "  background-color: #fcb79c;\n",
       "  color: #000000;\n",
       "}\n",
       "#T_5b26a_row9_col1 {\n",
       "  background-color: #fcc3ab;\n",
       "  color: #000000;\n",
       "}\n",
       "#T_5b26a_row10_col1 {\n",
       "  background-color: #fdd2bf;\n",
       "  color: #000000;\n",
       "}\n",
       "#T_5b26a_row11_col1 {\n",
       "  background-color: #fdd5c4;\n",
       "  color: #000000;\n",
       "}\n",
       "#T_5b26a_row12_col1 {\n",
       "  background-color: #fedbcc;\n",
       "  color: #000000;\n",
       "}\n",
       "#T_5b26a_row13_col1 {\n",
       "  background-color: #fee3d7;\n",
       "  color: #000000;\n",
       "}\n",
       "#T_5b26a_row14_col1 {\n",
       "  background-color: #fee7db;\n",
       "  color: #000000;\n",
       "}\n",
       "#T_5b26a_row15_col1, #T_5b26a_row16_col1 {\n",
       "  background-color: #ffeee6;\n",
       "  color: #000000;\n",
       "}\n",
       "#T_5b26a_row17_col1 {\n",
       "  background-color: #fff1ea;\n",
       "  color: #000000;\n",
       "}\n",
       "#T_5b26a_row18_col1 {\n",
       "  background-color: #fff4ee;\n",
       "  color: #000000;\n",
       "}\n",
       "#T_5b26a_row19_col1 {\n",
       "  background-color: #fff5f0;\n",
       "  color: #000000;\n",
       "}\n",
       "</style>\n",
       "<table id=\"T_5b26a\">\n",
       "  <thead>\n",
       "    <tr>\n",
       "      <th class=\"blank level0\" >&nbsp;</th>\n",
       "      <th id=\"T_5b26a_level0_col0\" class=\"col_heading level0 col0\" >Common_words</th>\n",
       "      <th id=\"T_5b26a_level0_col1\" class=\"col_heading level0 col1\" >count</th>\n",
       "    </tr>\n",
       "  </thead>\n",
       "  <tbody>\n",
       "    <tr>\n",
       "      <th id=\"T_5b26a_level0_row0\" class=\"row_heading level0 row0\" >0</th>\n",
       "      <td id=\"T_5b26a_row0_col0\" class=\"data row0 col0\" >miss</td>\n",
       "      <td id=\"T_5b26a_row0_col1\" class=\"data row0 col1\" >663</td>\n",
       "    </tr>\n",
       "    <tr>\n",
       "      <th id=\"T_5b26a_level0_row1\" class=\"row_heading level0 row1\" >1</th>\n",
       "      <td id=\"T_5b26a_row1_col0\" class=\"data row1 col0\" >like</td>\n",
       "      <td id=\"T_5b26a_row1_col1\" class=\"data row1 col1\" >489</td>\n",
       "    </tr>\n",
       "    <tr>\n",
       "      <th id=\"T_5b26a_level0_row2\" class=\"row_heading level0 row2\" >2</th>\n",
       "      <td id=\"T_5b26a_row2_col0\" class=\"data row2 col0\" >dont</td>\n",
       "      <td id=\"T_5b26a_row2_col1\" class=\"data row2 col1\" >468</td>\n",
       "    </tr>\n",
       "    <tr>\n",
       "      <th id=\"T_5b26a_level0_row3\" class=\"row_heading level0 row3\" >3</th>\n",
       "      <td id=\"T_5b26a_row3_col0\" class=\"data row3 col0\" >cant</td>\n",
       "      <td id=\"T_5b26a_row3_col1\" class=\"data row3 col1\" >466</td>\n",
       "    </tr>\n",
       "    <tr>\n",
       "      <th id=\"T_5b26a_level0_row4\" class=\"row_heading level0 row4\" >4</th>\n",
       "      <td id=\"T_5b26a_row4_col0\" class=\"data row4 col0\" >feel</td>\n",
       "      <td id=\"T_5b26a_row4_col1\" class=\"data row4 col1\" >466</td>\n",
       "    </tr>\n",
       "    <tr>\n",
       "      <th id=\"T_5b26a_level0_row5\" class=\"row_heading level0 row5\" >5</th>\n",
       "      <td id=\"T_5b26a_row5_col0\" class=\"data row5 col0\" >sad</td>\n",
       "      <td id=\"T_5b26a_row5_col1\" class=\"data row5 col1\" >389</td>\n",
       "    </tr>\n",
       "    <tr>\n",
       "      <th id=\"T_5b26a_level0_row6\" class=\"row_heading level0 row6\" >6</th>\n",
       "      <td id=\"T_5b26a_row6_col0\" class=\"data row6 col0\" >think</td>\n",
       "      <td id=\"T_5b26a_row6_col1\" class=\"data row6 col1\" >352</td>\n",
       "    </tr>\n",
       "    <tr>\n",
       "      <th id=\"T_5b26a_level0_row7\" class=\"row_heading level0 row7\" >7</th>\n",
       "      <td id=\"T_5b26a_row7_col0\" class=\"data row7 col0\" >sorry</td>\n",
       "      <td id=\"T_5b26a_row7_col1\" class=\"data row7 col1\" >340</td>\n",
       "    </tr>\n",
       "    <tr>\n",
       "      <th id=\"T_5b26a_level0_row8\" class=\"row_heading level0 row8\" >8</th>\n",
       "      <td id=\"T_5b26a_row8_col0\" class=\"data row8 col0\" >really</td>\n",
       "      <td id=\"T_5b26a_row8_col1\" class=\"data row8 col1\" >339</td>\n",
       "    </tr>\n",
       "    <tr>\n",
       "      <th id=\"T_5b26a_level0_row9\" class=\"row_heading level0 row9\" >9</th>\n",
       "      <td id=\"T_5b26a_row9_col0\" class=\"data row9 col0\" >want</td>\n",
       "      <td id=\"T_5b26a_row9_col1\" class=\"data row9 col1\" >323</td>\n",
       "    </tr>\n",
       "    <tr>\n",
       "      <th id=\"T_5b26a_level0_row10\" class=\"row_heading level0 row10\" >10</th>\n",
       "      <td id=\"T_5b26a_row10_col0\" class=\"data row10 col0\" >bad</td>\n",
       "      <td id=\"T_5b26a_row10_col1\" class=\"data row10 col1\" >300</td>\n",
       "    </tr>\n",
       "    <tr>\n",
       "      <th id=\"T_5b26a_level0_row11\" class=\"row_heading level0 row11\" >11</th>\n",
       "      <td id=\"T_5b26a_row11_col0\" class=\"data row11 col0\" >know</td>\n",
       "      <td id=\"T_5b26a_row11_col1\" class=\"data row11 col1\" >296</td>\n",
       "    </tr>\n",
       "    <tr>\n",
       "      <th id=\"T_5b26a_level0_row12\" class=\"row_heading level0 row12\" >12</th>\n",
       "      <td id=\"T_5b26a_row12_col0\" class=\"data row12 col0\" >make</td>\n",
       "      <td id=\"T_5b26a_row12_col1\" class=\"data row12 col1\" >287</td>\n",
       "    </tr>\n",
       "    <tr>\n",
       "      <th id=\"T_5b26a_level0_row13\" class=\"row_heading level0 row13\" >13</th>\n",
       "      <td id=\"T_5b26a_row13_col0\" class=\"data row13 col0\" >time</td>\n",
       "      <td id=\"T_5b26a_row13_col1\" class=\"data row13 col1\" >272</td>\n",
       "    </tr>\n",
       "    <tr>\n",
       "      <th id=\"T_5b26a_level0_row14\" class=\"row_heading level0 row14\" >14</th>\n",
       "      <td id=\"T_5b26a_row14_col0\" class=\"data row14 col0\" >hate</td>\n",
       "      <td id=\"T_5b26a_row14_col1\" class=\"data row14 col1\" >262</td>\n",
       "    </tr>\n",
       "    <tr>\n",
       "      <th id=\"T_5b26a_level0_row15\" class=\"row_heading level0 row15\" >15</th>\n",
       "      <td id=\"T_5b26a_row15_col0\" class=\"data row15 col0\" >suck</td>\n",
       "      <td id=\"T_5b26a_row15_col1\" class=\"data row15 col1\" >244</td>\n",
       "    </tr>\n",
       "    <tr>\n",
       "      <th id=\"T_5b26a_level0_row16\" class=\"row_heading level0 row16\" >16</th>\n",
       "      <td id=\"T_5b26a_row16_col0\" class=\"data row16 col0\" >still</td>\n",
       "      <td id=\"T_5b26a_row16_col1\" class=\"data row16 col1\" >243</td>\n",
       "    </tr>\n",
       "    <tr>\n",
       "      <th id=\"T_5b26a_level0_row17\" class=\"row_heading level0 row17\" >17</th>\n",
       "      <td id=\"T_5b26a_row17_col0\" class=\"data row17 col0\" >back</td>\n",
       "      <td id=\"T_5b26a_row17_col1\" class=\"data row17 col1\" >235</td>\n",
       "    </tr>\n",
       "    <tr>\n",
       "      <th id=\"T_5b26a_level0_row18\" class=\"row_heading level0 row18\" >18</th>\n",
       "      <td id=\"T_5b26a_row18_col0\" class=\"data row18 col0\" >oh</td>\n",
       "      <td id=\"T_5b26a_row18_col1\" class=\"data row18 col1\" >228</td>\n",
       "    </tr>\n",
       "    <tr>\n",
       "      <th id=\"T_5b26a_level0_row19\" class=\"row_heading level0 row19\" >19</th>\n",
       "      <td id=\"T_5b26a_row19_col0\" class=\"data row19 col0\" >much</td>\n",
       "      <td id=\"T_5b26a_row19_col1\" class=\"data row19 col1\" >224</td>\n",
       "    </tr>\n",
       "  </tbody>\n",
       "</table>\n"
      ],
      "text/plain": [
       "<pandas.io.formats.style.Styler at 0x16bda898610>"
      ]
     },
     "execution_count": 25,
     "metadata": {},
     "output_type": "execute_result"
    }
   ],
   "source": [
    "#Most common negative words\n",
    "top_neg = Counter([item for sublist in Negative_sentiment['temp_list'] for item in sublist])\n",
    "temp_negative = pd.DataFrame(top_neg.most_common(20))\n",
    "temp_negative.columns = ['Common_words','count']\n",
    "temp_negative.style.background_gradient(cmap = 'Reds')"
   ]
  },
  {
   "cell_type": "code",
   "execution_count": 26,
   "id": "4e79e383-5de8-4b39-9c05-41c04e94ab9b",
   "metadata": {},
   "outputs": [],
   "source": [
    "# visualizing using one of the most text visualization tools \"Word clouds\"\n",
    "\n",
    "dict_neutral = dict(zip(temp_neutral['Common_words'], temp_neutral['count']))\n",
    "dict_negative = dict(zip(temp_negative['Common_words'], temp_negative['count']))\n",
    "\n",
    "word_clouds_neutral = WordCloud(background_color = 'white', colormap = 'Greys').generate_from_frequencies(dict_neutral)\n",
    "word_clouds_negative = WordCloud(background_color = 'white', colormap = 'Reds').generate_from_frequencies(dict_negative)"
   ]
  },
  {
   "cell_type": "code",
   "execution_count": 27,
   "id": "fce33938-a35b-4819-9717-505b500c0304",
   "metadata": {},
   "outputs": [
    {
     "data": {
      "text/plain": [
       "(-0.5, 399.5, 199.5, -0.5)"
      ]
     },
     "execution_count": 27,
     "metadata": {},
     "output_type": "execute_result"
    },
    {
     "data": {
      "image/png": "[encoded data removed]",
      "text/plain": [
       "<Figure size 432x288 with 1 Axes>"
      ]
     },
     "metadata": {
      "needs_background": "light"
     },
     "output_type": "display_data"
    }
   ],
   "source": [
    "plt.imshow(word_clouds_neutral)\n",
    "plt.axis('off')"
   ]
  },
  {
   "cell_type": "code",
   "execution_count": 28,
   "id": "7422961d-e7b6-49d0-a6a2-7a8fd93e3b52",
   "metadata": {},
   "outputs": [
    {
     "data": {
      "text/plain": [
       "(-0.5, 399.5, 199.5, -0.5)"
      ]
     },
     "execution_count": 28,
     "metadata": {},
     "output_type": "execute_result"
    },
    {
     "data": {
      "image/png": "[encoded data removed]",
      "text/plain": [
       "<Figure size 432x288 with 1 Axes>"
      ]
     },
     "metadata": {
      "needs_background": "light"
     },
     "output_type": "display_data"
    }
   ],
   "source": [
    "plt.imshow(word_clouds_negative)\n",
    "plt.axis('off')"
   ]
  },
  {
   "cell_type": "markdown",
   "id": "714e236e-bd04-4478-91f7-04dcb9c4bb75",
   "metadata": {},
   "source": [
    "<font size=\"4\">\n",
    "---------------------------------------------------------------------------------------------------------------------------------------------- \n",
    "As we would expect from the \"negative\" sentiment there are words like \"sad\", \"sorry\", \"bad\", \"hate\" among the most popular words used, but on the other hand we have the word \"like\" as the second most used word. \n",
    "\n",
    "This could imply that the combination of two words like \"don't like\", \"can't like\" is also important in defining the sentiment of the text.\n",
    "\n",
    "This gives us a better idea for our next step....Tokenization\n",
    "</font>"
   ]
  },
  {
   "cell_type": "code",
   "execution_count": 29,
   "id": "b980dab6-1342-4107-9a8e-c0d078412055",
   "metadata": {},
   "outputs": [],
   "source": [
    "#Tokenization using the \"CountVectorizer\" from sklearn\n",
    "from sklearn.feature_extraction.text import CountVectorizer, TfidfVectorizer\n",
    "\n",
    "count_vector = CountVectorizer(ngram_range = (1, 2))# Tokenizing in bigrams based on our EDA earlier with count vectorizer\n",
    "Tfidf_vectorizer = TfidfVectorizer(ngram_range = (1, 2))# Tokenizing in bigrams based on our EDA earlier with Tfidf vectorizer"
   ]
  },
  {
   "cell_type": "code",
   "execution_count": 30,
   "id": "78ecded4-40ee-463b-8027-722eaa3d64ba",
   "metadata": {},
   "outputs": [],
   "source": [
    "#splitting the Data into train-test before vectorization\n",
    "from sklearn.model_selection import train_test_split\n",
    "\n",
    "features = \"text\"\n",
    "target = \"negative\"\n",
    "X_train, X_test, y_train, y_test  = train_test_split(data_cleaned[features], data_cleaned[target], test_size = 0.2, random_state = 45)"
   ]
  },
  {
   "cell_type": "code",
   "execution_count": 31,
   "id": "2d66931c-f3b8-478f-91ec-3b57a647426c",
   "metadata": {},
   "outputs": [
    {
     "name": "stdout",
     "output_type": "stream",
     "text": [
      "Size of training data :  15118\n",
      "Size of testing data :  3780\n"
     ]
    }
   ],
   "source": [
    "print(\"Size of training data : \", X_train.shape[0])\n",
    "print(\"Size of testing data : \", X_test.shape[0])"
   ]
  },
  {
   "cell_type": "code",
   "execution_count": 32,
   "id": "31592b68-7070-4830-af84-c155102ce3b3",
   "metadata": {},
   "outputs": [],
   "source": [
    "# Vectorizing our text data\n",
    "\n",
    "X_train_vector_cv = count_vector.fit_transform(X_train)\n",
    "X_test_vector_cv = count_vector.transform(X_test)\n",
    "\n",
    "X_train_vector_Tf = Tfidf_vectorizer.fit_transform(X_train)\n",
    "X_test_vector_Tf = Tfidf_vectorizer.transform(X_test)"
   ]
  },
  {
   "cell_type": "markdown",
   "id": "caeae92d-b74a-4f4a-8196-6a5cd226d2aa",
   "metadata": {},
   "source": [
    "<font size = \"4\">\n",
    "----------------------------------------------------------------------------------------------------------------------------------------------\n",
    "Let's try to use something simple first like, Logistic Regression \n",
    "</font>"
   ]
  },
  {
   "cell_type": "markdown",
   "id": "97e247f4-e11f-414a-9c3d-5222fb486c0a",
   "metadata": {},
   "source": [
    "### Logistic regression"
   ]
  },
  {
   "cell_type": "code",
   "execution_count": 33,
   "id": "62a88577-cddb-4c9c-bed2-37a8b1c42ce2",
   "metadata": {},
   "outputs": [],
   "source": [
    "from sklearn.linear_model import LogisticRegression\n",
    "\n",
    "lr = LogisticRegression()# Defining the model"
   ]
  },
  {
   "cell_type": "code",
   "execution_count": 34,
   "id": "6f88084c-b3fd-4519-a28a-2d3b783423ea",
   "metadata": {},
   "outputs": [
    {
     "data": {
      "text/html": [
       "<style>#sk-container-id-1 {color: black;background-color: white;}#sk-container-id-1 pre{padding: 0;}#sk-container-id-1 div.sk-toggleable {background-color: white;}#sk-container-id-1 label.sk-toggleable__label {cursor: pointer;display: block;width: 100%;margin-bottom: 0;padding: 0.3em;box-sizing: border-box;text-align: center;}#sk-container-id-1 label.sk-toggleable__label-arrow:before {content: \"▸\";float: left;margin-right: 0.25em;color: #696969;}#sk-container-id-1 label.sk-toggleable__label-arrow:hover:before {color: black;}#sk-container-id-1 div.sk-estimator:hover label.sk-toggleable__label-arrow:before {color: black;}#sk-container-id-1 div.sk-toggleable__content {max-height: 0;max-width: 0;overflow: hidden;text-align: left;background-color: #f0f8ff;}#sk-container-id-1 div.sk-toggleable__content pre {margin: 0.2em;color: black;border-radius: 0.25em;background-color: #f0f8ff;}#sk-container-id-1 input.sk-toggleable__control:checked~div.sk-toggleable__content {max-height: 200px;max-width: 100%;overflow: auto;}#sk-container-id-1 input.sk-toggleable__control:checked~label.sk-toggleable__label-arrow:before {content: \"▾\";}#sk-container-id-1 div.sk-estimator input.sk-toggleable__control:checked~label.sk-toggleable__label {background-color: #d4ebff;}#sk-container-id-1 div.sk-label input.sk-toggleable__control:checked~label.sk-toggleable__label {background-color: #d4ebff;}#sk-container-id-1 input.sk-hidden--visually {border: 0;clip: rect(1px 1px 1px 1px);clip: rect(1px, 1px, 1px, 1px);height: 1px;margin: -1px;overflow: hidden;padding: 0;position: absolute;width: 1px;}#sk-container-id-1 div.sk-estimator {font-family: monospace;background-color: #f0f8ff;border: 1px dotted black;border-radius: 0.25em;box-sizing: border-box;margin-bottom: 0.5em;}#sk-container-id-1 div.sk-estimator:hover {background-color: #d4ebff;}#sk-container-id-1 div.sk-parallel-item::after {content: \"\";width: 100%;border-bottom: 1px solid gray;flex-grow: 1;}#sk-container-id-1 div.sk-label:hover label.sk-toggleable__label {background-color: #d4ebff;}#sk-container-id-1 div.sk-serial::before {content: \"\";position: absolute;border-left: 1px solid gray;box-sizing: border-box;top: 0;bottom: 0;left: 50%;z-index: 0;}#sk-container-id-1 div.sk-serial {display: flex;flex-direction: column;align-items: center;background-color: white;padding-right: 0.2em;padding-left: 0.2em;position: relative;}#sk-container-id-1 div.sk-item {position: relative;z-index: 1;}#sk-container-id-1 div.sk-parallel {display: flex;align-items: stretch;justify-content: center;background-color: white;position: relative;}#sk-container-id-1 div.sk-item::before, #sk-container-id-1 div.sk-parallel-item::before {content: \"\";position: absolute;border-left: 1px solid gray;box-sizing: border-box;top: 0;bottom: 0;left: 50%;z-index: -1;}#sk-container-id-1 div.sk-parallel-item {display: flex;flex-direction: column;z-index: 1;position: relative;background-color: white;}#sk-container-id-1 div.sk-parallel-item:first-child::after {align-self: flex-end;width: 50%;}#sk-container-id-1 div.sk-parallel-item:last-child::after {align-self: flex-start;width: 50%;}#sk-container-id-1 div.sk-parallel-item:only-child::after {width: 0;}#sk-container-id-1 div.sk-dashed-wrapped {border: 1px dashed gray;margin: 0 0.4em 0.5em 0.4em;box-sizing: border-box;padding-bottom: 0.4em;background-color: white;}#sk-container-id-1 div.sk-label label {font-family: monospace;font-weight: bold;display: inline-block;line-height: 1.2em;}#sk-container-id-1 div.sk-label-container {text-align: center;}#sk-container-id-1 div.sk-container {/* jupyter's `normalize.less` sets `[hidden] { display: none; }` but bootstrap.min.css set `[hidden] { display: none !important; }` so we also need the `!important` here to be able to override the default hidden behavior on the sphinx rendered scikit-learn.org. See: https://github.com/scikit-learn/scikit-learn/issues/21755 */display: inline-block !important;position: relative;}#sk-container-id-1 div.sk-text-repr-fallback {display: none;}</style><div id=\"sk-container-id-1\" class=\"sk-top-container\"><div class=\"sk-text-repr-fallback\"><pre>LogisticRegression()</pre><b>In a Jupyter environment, please rerun this cell to show the HTML representation or trust the notebook. <br />On GitHub, the HTML representation is unable to render, please try loading this page with nbviewer.org.</b></div><div class=\"sk-container\" hidden><div class=\"sk-item\"><div class=\"sk-estimator sk-toggleable\"><input class=\"sk-toggleable__control sk-hidden--visually\" id=\"sk-estimator-id-1\" type=\"checkbox\" checked><label for=\"sk-estimator-id-1\" class=\"sk-toggleable__label sk-toggleable__label-arrow\">LogisticRegression</label><div class=\"sk-toggleable__content\"><pre>LogisticRegression()</pre></div></div></div></div></div>"
      ],
      "text/plain": [
       "LogisticRegression()"
      ]
     },
     "execution_count": 34,
     "metadata": {},
     "output_type": "execute_result"
    }
   ],
   "source": [
    "lr.fit(X_train_vector_cv, y_train)# Fitting our data and training our model"
   ]
  },
  {
   "cell_type": "code",
   "execution_count": 35,
   "id": "fc28845f-3580-44df-8955-5d7a80198d85",
   "metadata": {},
   "outputs": [
    {
     "data": {
      "text/plain": [
       "array([0, 0, 0, 1, 0, 0, 1, 1, 0, 0], dtype=uint8)"
      ]
     },
     "execution_count": 35,
     "metadata": {},
     "output_type": "execute_result"
    }
   ],
   "source": [
    "lr_pred_cv = lr.predict(X_test_vector_cv) # Predicting using our test data\n",
    "lr_pred_cv[:10]"
   ]
  },
  {
   "cell_type": "code",
   "execution_count": 36,
   "id": "4b286a07-0a09-4c7a-80e5-27df2096f328",
   "metadata": {},
   "outputs": [
    {
     "name": "stdout",
     "output_type": "stream",
     "text": [
      "              precision    recall  f1-score   support\n",
      "\n",
      "           0       0.75      0.89      0.81      2169\n",
      "           1       0.80      0.60      0.68      1611\n",
      "\n",
      "    accuracy                           0.76      3780\n",
      "   macro avg       0.77      0.74      0.75      3780\n",
      "weighted avg       0.77      0.76      0.76      3780\n",
      "\n"
     ]
    },
    {
     "data": {
      "image/png": "[encoded data removed]",
      "text/plain": [
       "<Figure size 432x288 with 2 Axes>"
      ]
     },
     "metadata": {
      "needs_background": "light"
     },
     "output_type": "display_data"
    }
   ],
   "source": [
    "# Visualizing our model performance\n",
    "\n",
    "from sklearn.metrics import confusion_matrix, ConfusionMatrixDisplay, classification_report\n",
    "\n",
    "print(classification_report(y_test, lr_pred_cv))\n",
    "\n",
    "cm_lr = confusion_matrix(y_test, lr_pred_cv)\n",
    "\n",
    "ConfusionMatrixDisplay(confusion_matrix = cm_lr, display_labels = lr.classes_).plot()\n",
    "plt.show()"
   ]
  },
  {
   "cell_type": "code",
   "execution_count": 37,
   "id": "54f4827c-bba9-416e-ad67-e18fe4310411",
   "metadata": {},
   "outputs": [
    {
     "data": {
      "text/html": [
       "<style>#sk-container-id-2 {color: black;background-color: white;}#sk-container-id-2 pre{padding: 0;}#sk-container-id-2 div.sk-toggleable {background-color: white;}#sk-container-id-2 label.sk-toggleable__label {cursor: pointer;display: block;width: 100%;margin-bottom: 0;padding: 0.3em;box-sizing: border-box;text-align: center;}#sk-container-id-2 label.sk-toggleable__label-arrow:before {content: \"▸\";float: left;margin-right: 0.25em;color: #696969;}#sk-container-id-2 label.sk-toggleable__label-arrow:hover:before {color: black;}#sk-container-id-2 div.sk-estimator:hover label.sk-toggleable__label-arrow:before {color: black;}#sk-container-id-2 div.sk-toggleable__content {max-height: 0;max-width: 0;overflow: hidden;text-align: left;background-color: #f0f8ff;}#sk-container-id-2 div.sk-toggleable__content pre {margin: 0.2em;color: black;border-radius: 0.25em;background-color: #f0f8ff;}#sk-container-id-2 input.sk-toggleable__control:checked~div.sk-toggleable__content {max-height: 200px;max-width: 100%;overflow: auto;}#sk-container-id-2 input.sk-toggleable__control:checked~label.sk-toggleable__label-arrow:before {content: \"▾\";}#sk-container-id-2 div.sk-estimator input.sk-toggleable__control:checked~label.sk-toggleable__label {background-color: #d4ebff;}#sk-container-id-2 div.sk-label input.sk-toggleable__control:checked~label.sk-toggleable__label {background-color: #d4ebff;}#sk-container-id-2 input.sk-hidden--visually {border: 0;clip: rect(1px 1px 1px 1px);clip: rect(1px, 1px, 1px, 1px);height: 1px;margin: -1px;overflow: hidden;padding: 0;position: absolute;width: 1px;}#sk-container-id-2 div.sk-estimator {font-family: monospace;background-color: #f0f8ff;border: 1px dotted black;border-radius: 0.25em;box-sizing: border-box;margin-bottom: 0.5em;}#sk-container-id-2 div.sk-estimator:hover {background-color: #d4ebff;}#sk-container-id-2 div.sk-parallel-item::after {content: \"\";width: 100%;border-bottom: 1px solid gray;flex-grow: 1;}#sk-container-id-2 div.sk-label:hover label.sk-toggleable__label {background-color: #d4ebff;}#sk-container-id-2 div.sk-serial::before {content: \"\";position: absolute;border-left: 1px solid gray;box-sizing: border-box;top: 0;bottom: 0;left: 50%;z-index: 0;}#sk-container-id-2 div.sk-serial {display: flex;flex-direction: column;align-items: center;background-color: white;padding-right: 0.2em;padding-left: 0.2em;position: relative;}#sk-container-id-2 div.sk-item {position: relative;z-index: 1;}#sk-container-id-2 div.sk-parallel {display: flex;align-items: stretch;justify-content: center;background-color: white;position: relative;}#sk-container-id-2 div.sk-item::before, #sk-container-id-2 div.sk-parallel-item::before {content: \"\";position: absolute;border-left: 1px solid gray;box-sizing: border-box;top: 0;bottom: 0;left: 50%;z-index: -1;}#sk-container-id-2 div.sk-parallel-item {display: flex;flex-direction: column;z-index: 1;position: relative;background-color: white;}#sk-container-id-2 div.sk-parallel-item:first-child::after {align-self: flex-end;width: 50%;}#sk-container-id-2 div.sk-parallel-item:last-child::after {align-self: flex-start;width: 50%;}#sk-container-id-2 div.sk-parallel-item:only-child::after {width: 0;}#sk-container-id-2 div.sk-dashed-wrapped {border: 1px dashed gray;margin: 0 0.4em 0.5em 0.4em;box-sizing: border-box;padding-bottom: 0.4em;background-color: white;}#sk-container-id-2 div.sk-label label {font-family: monospace;font-weight: bold;display: inline-block;line-height: 1.2em;}#sk-container-id-2 div.sk-label-container {text-align: center;}#sk-container-id-2 div.sk-container {/* jupyter's `normalize.less` sets `[hidden] { display: none; }` but bootstrap.min.css set `[hidden] { display: none !important; }` so we also need the `!important` here to be able to override the default hidden behavior on the sphinx rendered scikit-learn.org. See: https://github.com/scikit-learn/scikit-learn/issues/21755 */display: inline-block !important;position: relative;}#sk-container-id-2 div.sk-text-repr-fallback {display: none;}</style><div id=\"sk-container-id-2\" class=\"sk-top-container\"><div class=\"sk-text-repr-fallback\"><pre>LogisticRegression()</pre><b>In a Jupyter environment, please rerun this cell to show the HTML representation or trust the notebook. <br />On GitHub, the HTML representation is unable to render, please try loading this page with nbviewer.org.</b></div><div class=\"sk-container\" hidden><div class=\"sk-item\"><div class=\"sk-estimator sk-toggleable\"><input class=\"sk-toggleable__control sk-hidden--visually\" id=\"sk-estimator-id-2\" type=\"checkbox\" checked><label for=\"sk-estimator-id-2\" class=\"sk-toggleable__label sk-toggleable__label-arrow\">LogisticRegression</label><div class=\"sk-toggleable__content\"><pre>LogisticRegression()</pre></div></div></div></div></div>"
      ],
      "text/plain": [
       "LogisticRegression()"
      ]
     },
     "execution_count": 37,
     "metadata": {},
     "output_type": "execute_result"
    }
   ],
   "source": [
    "lr.fit(X_train_vector_Tf, y_train)# Fitting our data and training our model"
   ]
  },
  {
   "cell_type": "code",
   "execution_count": 38,
   "id": "386ab046-0a37-42a0-8a83-b4b83557346d",
   "metadata": {},
   "outputs": [
    {
     "data": {
      "text/plain": [
       "array([0, 0, 0, 1, 0, 0, 1, 1, 0, 0], dtype=uint8)"
      ]
     },
     "execution_count": 38,
     "metadata": {},
     "output_type": "execute_result"
    }
   ],
   "source": [
    "lr_pred_Tf = lr.predict(X_test_vector_Tf) # Predicting using our test data\n",
    "lr_pred_Tf[:10]"
   ]
  },
  {
   "cell_type": "code",
   "execution_count": 39,
   "id": "bcaf86c0-9e1b-4b00-a703-d3a061f5b747",
   "metadata": {},
   "outputs": [
    {
     "name": "stdout",
     "output_type": "stream",
     "text": [
      "              precision    recall  f1-score   support\n",
      "\n",
      "           0       0.74      0.88      0.80      2169\n",
      "           1       0.78      0.59      0.67      1611\n",
      "\n",
      "    accuracy                           0.76      3780\n",
      "   macro avg       0.76      0.73      0.74      3780\n",
      "weighted avg       0.76      0.76      0.75      3780\n",
      "\n"
     ]
    },
    {
     "data": {
      "image/png": "[encoded data removed]",
      "text/plain": [
       "<Figure size 432x288 with 2 Axes>"
      ]
     },
     "metadata": {
      "needs_background": "light"
     },
     "output_type": "display_data"
    }
   ],
   "source": [
    "# Visualizing our model performance\n",
    "\n",
    "print(classification_report(y_test, lr_pred_Tf))\n",
    "\n",
    "cm_lr = confusion_matrix(y_test, lr_pred_Tf)\n",
    "\n",
    "ConfusionMatrixDisplay(confusion_matrix = cm_lr, display_labels = lr.classes_).plot()\n",
    "plt.show()"
   ]
  },
  {
   "cell_type": "markdown",
   "id": "7b0d8ab4-aeec-491b-b4c4-276cf2fd5b4d",
   "metadata": {},
   "source": [
    "<font size=\"4\">\n",
    "----------------------------------------------------------------------------------------------------------------------------------------------  \n",
    "For a simple model this seems to be doing quite well, but our main objective is decreasing the number of False negatives and in turn the \"Recall\" which can be better.\n",
    "    \n",
    "So, let's try something a little more complicated.\n",
    "</font>"
   ]
  },
  {
   "cell_type": "markdown",
   "id": "2604765a-dd14-4839-99cb-f132ae012ff7",
   "metadata": {},
   "source": [
    "### Random Forest Classifier"
   ]
  },
  {
   "cell_type": "code",
   "execution_count": 40,
   "id": "e02a62a0-70d3-4196-88bc-cf710f1d3149",
   "metadata": {},
   "outputs": [],
   "source": [
    "from sklearn.ensemble import RandomForestClassifier\n",
    "\n",
    "rf_classifier = RandomForestClassifier(n_estimators = 200, criterion = \"entropy\") # Defining the model"
   ]
  },
  {
   "cell_type": "code",
   "execution_count": 41,
   "id": "1d1820a4-7053-413b-91a7-966af743b730",
   "metadata": {},
   "outputs": [
    {
     "data": {
      "text/html": [
       "<style>#sk-container-id-3 {color: black;background-color: white;}#sk-container-id-3 pre{padding: 0;}#sk-container-id-3 div.sk-toggleable {background-color: white;}#sk-container-id-3 label.sk-toggleable__label {cursor: pointer;display: block;width: 100%;margin-bottom: 0;padding: 0.3em;box-sizing: border-box;text-align: center;}#sk-container-id-3 label.sk-toggleable__label-arrow:before {content: \"▸\";float: left;margin-right: 0.25em;color: #696969;}#sk-container-id-3 label.sk-toggleable__label-arrow:hover:before {color: black;}#sk-container-id-3 div.sk-estimator:hover label.sk-toggleable__label-arrow:before {color: black;}#sk-container-id-3 div.sk-toggleable__content {max-height: 0;max-width: 0;overflow: hidden;text-align: left;background-color: #f0f8ff;}#sk-container-id-3 div.sk-toggleable__content pre {margin: 0.2em;color: black;border-radius: 0.25em;background-color: #f0f8ff;}#sk-container-id-3 input.sk-toggleable__control:checked~div.sk-toggleable__content {max-height: 200px;max-width: 100%;overflow: auto;}#sk-container-id-3 input.sk-toggleable__control:checked~label.sk-toggleable__label-arrow:before {content: \"▾\";}#sk-container-id-3 div.sk-estimator input.sk-toggleable__control:checked~label.sk-toggleable__label {background-color: #d4ebff;}#sk-container-id-3 div.sk-label input.sk-toggleable__control:checked~label.sk-toggleable__label {background-color: #d4ebff;}#sk-container-id-3 input.sk-hidden--visually {border: 0;clip: rect(1px 1px 1px 1px);clip: rect(1px, 1px, 1px, 1px);height: 1px;margin: -1px;overflow: hidden;padding: 0;position: absolute;width: 1px;}#sk-container-id-3 div.sk-estimator {font-family: monospace;background-color: #f0f8ff;border: 1px dotted black;border-radius: 0.25em;box-sizing: border-box;margin-bottom: 0.5em;}#sk-container-id-3 div.sk-estimator:hover {background-color: #d4ebff;}#sk-container-id-3 div.sk-parallel-item::after {content: \"\";width: 100%;border-bottom: 1px solid gray;flex-grow: 1;}#sk-container-id-3 div.sk-label:hover label.sk-toggleable__label {background-color: #d4ebff;}#sk-container-id-3 div.sk-serial::before {content: \"\";position: absolute;border-left: 1px solid gray;box-sizing: border-box;top: 0;bottom: 0;left: 50%;z-index: 0;}#sk-container-id-3 div.sk-serial {display: flex;flex-direction: column;align-items: center;background-color: white;padding-right: 0.2em;padding-left: 0.2em;position: relative;}#sk-container-id-3 div.sk-item {position: relative;z-index: 1;}#sk-container-id-3 div.sk-parallel {display: flex;align-items: stretch;justify-content: center;background-color: white;position: relative;}#sk-container-id-3 div.sk-item::before, #sk-container-id-3 div.sk-parallel-item::before {content: \"\";position: absolute;border-left: 1px solid gray;box-sizing: border-box;top: 0;bottom: 0;left: 50%;z-index: -1;}#sk-container-id-3 div.sk-parallel-item {display: flex;flex-direction: column;z-index: 1;position: relative;background-color: white;}#sk-container-id-3 div.sk-parallel-item:first-child::after {align-self: flex-end;width: 50%;}#sk-container-id-3 div.sk-parallel-item:last-child::after {align-self: flex-start;width: 50%;}#sk-container-id-3 div.sk-parallel-item:only-child::after {width: 0;}#sk-container-id-3 div.sk-dashed-wrapped {border: 1px dashed gray;margin: 0 0.4em 0.5em 0.4em;box-sizing: border-box;padding-bottom: 0.4em;background-color: white;}#sk-container-id-3 div.sk-label label {font-family: monospace;font-weight: bold;display: inline-block;line-height: 1.2em;}#sk-container-id-3 div.sk-label-container {text-align: center;}#sk-container-id-3 div.sk-container {/* jupyter's `normalize.less` sets `[hidden] { display: none; }` but bootstrap.min.css set `[hidden] { display: none !important; }` so we also need the `!important` here to be able to override the default hidden behavior on the sphinx rendered scikit-learn.org. See: https://github.com/scikit-learn/scikit-learn/issues/21755 */display: inline-block !important;position: relative;}#sk-container-id-3 div.sk-text-repr-fallback {display: none;}</style><div id=\"sk-container-id-3\" class=\"sk-top-container\"><div class=\"sk-text-repr-fallback\"><pre>RandomForestClassifier(criterion=&#x27;entropy&#x27;, n_estimators=200)</pre><b>In a Jupyter environment, please rerun this cell to show the HTML representation or trust the notebook. <br />On GitHub, the HTML representation is unable to render, please try loading this page with nbviewer.org.</b></div><div class=\"sk-container\" hidden><div class=\"sk-item\"><div class=\"sk-estimator sk-toggleable\"><input class=\"sk-toggleable__control sk-hidden--visually\" id=\"sk-estimator-id-3\" type=\"checkbox\" checked><label for=\"sk-estimator-id-3\" class=\"sk-toggleable__label sk-toggleable__label-arrow\">RandomForestClassifier</label><div class=\"sk-toggleable__content\"><pre>RandomForestClassifier(criterion=&#x27;entropy&#x27;, n_estimators=200)</pre></div></div></div></div></div>"
      ],
      "text/plain": [
       "RandomForestClassifier(criterion='entropy', n_estimators=200)"
      ]
     },
     "execution_count": 41,
     "metadata": {},
     "output_type": "execute_result"
    }
   ],
   "source": [
    "rf_classifier.fit(X_train_vector_cv, y_train) # Fitting our data and training our model"
   ]
  },
  {
   "cell_type": "code",
   "execution_count": 42,
   "id": "12958560-0034-4c1a-8911-ed5a3fa670f8",
   "metadata": {},
   "outputs": [
    {
     "data": {
      "text/plain": [
       "array([1, 0, 0, 1, 0, 0, 1, 1, 0, 0], dtype=uint8)"
      ]
     },
     "execution_count": 42,
     "metadata": {},
     "output_type": "execute_result"
    }
   ],
   "source": [
    "rf_pred_cv = rf_classifier.predict(X_test_vector_cv)\n",
    "rf_pred_cv[:10]"
   ]
  },
  {
   "cell_type": "code",
   "execution_count": 43,
   "id": "cf9851fd-21c3-4dce-8201-8b64787eccae",
   "metadata": {},
   "outputs": [
    {
     "name": "stdout",
     "output_type": "stream",
     "text": [
      "              precision    recall  f1-score   support\n",
      "\n",
      "           0       0.75      0.85      0.80      2169\n",
      "           1       0.75      0.62      0.68      1611\n",
      "\n",
      "    accuracy                           0.75      3780\n",
      "   macro avg       0.75      0.73      0.74      3780\n",
      "weighted avg       0.75      0.75      0.75      3780\n",
      "\n"
     ]
    },
    {
     "data": {
      "image/png": "[encoded data removed]",
      "text/plain": [
       "<Figure size 432x288 with 2 Axes>"
      ]
     },
     "metadata": {
      "needs_background": "light"
     },
     "output_type": "display_data"
    }
   ],
   "source": [
    "# Visualizing our model performance\n",
    "\n",
    "print(classification_report(y_test, rf_pred_cv))\n",
    "\n",
    "cm_rf = confusion_matrix(y_test, rf_pred_cv)\n",
    "\n",
    "ConfusionMatrixDisplay(confusion_matrix = cm_rf, display_labels = rf_classifier.classes_).plot()\n",
    "plt.show()"
   ]
  },
  {
   "cell_type": "code",
   "execution_count": 44,
   "id": "dc2902fd-ecd1-4152-a5a9-3b7db7a2ac1c",
   "metadata": {},
   "outputs": [
    {
     "data": {
      "text/html": [
       "<style>#sk-container-id-4 {color: black;background-color: white;}#sk-container-id-4 pre{padding: 0;}#sk-container-id-4 div.sk-toggleable {background-color: white;}#sk-container-id-4 label.sk-toggleable__label {cursor: pointer;display: block;width: 100%;margin-bottom: 0;padding: 0.3em;box-sizing: border-box;text-align: center;}#sk-container-id-4 label.sk-toggleable__label-arrow:before {content: \"▸\";float: left;margin-right: 0.25em;color: #696969;}#sk-container-id-4 label.sk-toggleable__label-arrow:hover:before {color: black;}#sk-container-id-4 div.sk-estimator:hover label.sk-toggleable__label-arrow:before {color: black;}#sk-container-id-4 div.sk-toggleable__content {max-height: 0;max-width: 0;overflow: hidden;text-align: left;background-color: #f0f8ff;}#sk-container-id-4 div.sk-toggleable__content pre {margin: 0.2em;color: black;border-radius: 0.25em;background-color: #f0f8ff;}#sk-container-id-4 input.sk-toggleable__control:checked~div.sk-toggleable__content {max-height: 200px;max-width: 100%;overflow: auto;}#sk-container-id-4 input.sk-toggleable__control:checked~label.sk-toggleable__label-arrow:before {content: \"▾\";}#sk-container-id-4 div.sk-estimator input.sk-toggleable__control:checked~label.sk-toggleable__label {background-color: #d4ebff;}#sk-container-id-4 div.sk-label input.sk-toggleable__control:checked~label.sk-toggleable__label {background-color: #d4ebff;}#sk-container-id-4 input.sk-hidden--visually {border: 0;clip: rect(1px 1px 1px 1px);clip: rect(1px, 1px, 1px, 1px);height: 1px;margin: -1px;overflow: hidden;padding: 0;position: absolute;width: 1px;}#sk-container-id-4 div.sk-estimator {font-family: monospace;background-color: #f0f8ff;border: 1px dotted black;border-radius: 0.25em;box-sizing: border-box;margin-bottom: 0.5em;}#sk-container-id-4 div.sk-estimator:hover {background-color: #d4ebff;}#sk-container-id-4 div.sk-parallel-item::after {content: \"\";width: 100%;border-bottom: 1px solid gray;flex-grow: 1;}#sk-container-id-4 div.sk-label:hover label.sk-toggleable__label {background-color: #d4ebff;}#sk-container-id-4 div.sk-serial::before {content: \"\";position: absolute;border-left: 1px solid gray;box-sizing: border-box;top: 0;bottom: 0;left: 50%;z-index: 0;}#sk-container-id-4 div.sk-serial {display: flex;flex-direction: column;align-items: center;background-color: white;padding-right: 0.2em;padding-left: 0.2em;position: relative;}#sk-container-id-4 div.sk-item {position: relative;z-index: 1;}#sk-container-id-4 div.sk-parallel {display: flex;align-items: stretch;justify-content: center;background-color: white;position: relative;}#sk-container-id-4 div.sk-item::before, #sk-container-id-4 div.sk-parallel-item::before {content: \"\";position: absolute;border-left: 1px solid gray;box-sizing: border-box;top: 0;bottom: 0;left: 50%;z-index: -1;}#sk-container-id-4 div.sk-parallel-item {display: flex;flex-direction: column;z-index: 1;position: relative;background-color: white;}#sk-container-id-4 div.sk-parallel-item:first-child::after {align-self: flex-end;width: 50%;}#sk-container-id-4 div.sk-parallel-item:last-child::after {align-self: flex-start;width: 50%;}#sk-container-id-4 div.sk-parallel-item:only-child::after {width: 0;}#sk-container-id-4 div.sk-dashed-wrapped {border: 1px dashed gray;margin: 0 0.4em 0.5em 0.4em;box-sizing: border-box;padding-bottom: 0.4em;background-color: white;}#sk-container-id-4 div.sk-label label {font-family: monospace;font-weight: bold;display: inline-block;line-height: 1.2em;}#sk-container-id-4 div.sk-label-container {text-align: center;}#sk-container-id-4 div.sk-container {/* jupyter's `normalize.less` sets `[hidden] { display: none; }` but bootstrap.min.css set `[hidden] { display: none !important; }` so we also need the `!important` here to be able to override the default hidden behavior on the sphinx rendered scikit-learn.org. See: https://github.com/scikit-learn/scikit-learn/issues/21755 */display: inline-block !important;position: relative;}#sk-container-id-4 div.sk-text-repr-fallback {display: none;}</style><div id=\"sk-container-id-4\" class=\"sk-top-container\"><div class=\"sk-text-repr-fallback\"><pre>RandomForestClassifier(criterion=&#x27;entropy&#x27;, n_estimators=200)</pre><b>In a Jupyter environment, please rerun this cell to show the HTML representation or trust the notebook. <br />On GitHub, the HTML representation is unable to render, please try loading this page with nbviewer.org.</b></div><div class=\"sk-container\" hidden><div class=\"sk-item\"><div class=\"sk-estimator sk-toggleable\"><input class=\"sk-toggleable__control sk-hidden--visually\" id=\"sk-estimator-id-4\" type=\"checkbox\" checked><label for=\"sk-estimator-id-4\" class=\"sk-toggleable__label sk-toggleable__label-arrow\">RandomForestClassifier</label><div class=\"sk-toggleable__content\"><pre>RandomForestClassifier(criterion=&#x27;entropy&#x27;, n_estimators=200)</pre></div></div></div></div></div>"
      ],
      "text/plain": [
       "RandomForestClassifier(criterion='entropy', n_estimators=200)"
      ]
     },
     "execution_count": 44,
     "metadata": {},
     "output_type": "execute_result"
    }
   ],
   "source": [
    "rf_classifier.fit(X_train_vector_Tf, y_train) # Fitting our data and training our model"
   ]
  },
  {
   "cell_type": "code",
   "execution_count": 45,
   "id": "260c33aa-8ec2-4465-b3a3-ef48ff942dc7",
   "metadata": {},
   "outputs": [
    {
     "data": {
      "text/plain": [
       "array([0, 0, 0, 1, 0, 0, 1, 1, 0, 0], dtype=uint8)"
      ]
     },
     "execution_count": 45,
     "metadata": {},
     "output_type": "execute_result"
    }
   ],
   "source": [
    "rf_pred_Tf = rf_classifier.predict(X_test_vector_Tf)\n",
    "rf_pred_Tf[:10]"
   ]
  },
  {
   "cell_type": "code",
   "execution_count": 46,
   "id": "34a2d122-ac9d-4011-b363-31a24dba985b",
   "metadata": {},
   "outputs": [
    {
     "name": "stdout",
     "output_type": "stream",
     "text": [
      "              precision    recall  f1-score   support\n",
      "\n",
      "           0       0.75      0.87      0.81      2169\n",
      "           1       0.78      0.61      0.68      1611\n",
      "\n",
      "    accuracy                           0.76      3780\n",
      "   macro avg       0.76      0.74      0.74      3780\n",
      "weighted avg       0.76      0.76      0.75      3780\n",
      "\n"
     ]
    },
    {
     "data": {
      "image/png": "[encoded data removed]",
      "text/plain": [
       "<Figure size 432x288 with 2 Axes>"
      ]
     },
     "metadata": {
      "needs_background": "light"
     },
     "output_type": "display_data"
    }
   ],
   "source": [
    "# Visualizing our model performance\n",
    "\n",
    "print(classification_report(y_test, rf_pred_Tf))\n",
    "\n",
    "cm_rf = confusion_matrix(y_test, rf_pred_Tf)\n",
    "\n",
    "ConfusionMatrixDisplay(confusion_matrix = cm_rf, display_labels = rf_classifier.classes_).plot()\n",
    "plt.show()"
   ]
  },
  {
   "cell_type": "markdown",
   "id": "06fca977-f3ba-48b6-b195-a0537eb7f908",
   "metadata": {},
   "source": [
    "<font size=\"4\">\n",
    "----------------------------------------------------------------------------------------------------------------------------------------------\n",
    "The model performance seems to be just slightly better but it still isn't ideal.\n",
    "\n",
    "So, let's try something else.\n",
    "</font>"
   ]
  },
  {
   "cell_type": "markdown",
   "id": "329992ea-6a3b-4286-8a3e-99841bce3763",
   "metadata": {},
   "source": [
    "### Naive Baye's"
   ]
  },
  {
   "cell_type": "code",
   "execution_count": 47,
   "id": "13fdc959-063d-4217-b335-a82ed0c3163e",
   "metadata": {},
   "outputs": [],
   "source": [
    "from sklearn.naive_bayes import MultinomialNB\n",
    "\n",
    "nb_classifier = MultinomialNB() # Defining the model"
   ]
  },
  {
   "cell_type": "code",
   "execution_count": 48,
   "id": "f6143454-562f-4733-996d-a5113062ca64",
   "metadata": {},
   "outputs": [
    {
     "data": {
      "text/html": [
       "<style>#sk-container-id-5 {color: black;background-color: white;}#sk-container-id-5 pre{padding: 0;}#sk-container-id-5 div.sk-toggleable {background-color: white;}#sk-container-id-5 label.sk-toggleable__label {cursor: pointer;display: block;width: 100%;margin-bottom: 0;padding: 0.3em;box-sizing: border-box;text-align: center;}#sk-container-id-5 label.sk-toggleable__label-arrow:before {content: \"▸\";float: left;margin-right: 0.25em;color: #696969;}#sk-container-id-5 label.sk-toggleable__label-arrow:hover:before {color: black;}#sk-container-id-5 div.sk-estimator:hover label.sk-toggleable__label-arrow:before {color: black;}#sk-container-id-5 div.sk-toggleable__content {max-height: 0;max-width: 0;overflow: hidden;text-align: left;background-color: #f0f8ff;}#sk-container-id-5 div.sk-toggleable__content pre {margin: 0.2em;color: black;border-radius: 0.25em;background-color: #f0f8ff;}#sk-container-id-5 input.sk-toggleable__control:checked~div.sk-toggleable__content {max-height: 200px;max-width: 100%;overflow: auto;}#sk-container-id-5 input.sk-toggleable__control:checked~label.sk-toggleable__label-arrow:before {content: \"▾\";}#sk-container-id-5 div.sk-estimator input.sk-toggleable__control:checked~label.sk-toggleable__label {background-color: #d4ebff;}#sk-container-id-5 div.sk-label input.sk-toggleable__control:checked~label.sk-toggleable__label {background-color: #d4ebff;}#sk-container-id-5 input.sk-hidden--visually {border: 0;clip: rect(1px 1px 1px 1px);clip: rect(1px, 1px, 1px, 1px);height: 1px;margin: -1px;overflow: hidden;padding: 0;position: absolute;width: 1px;}#sk-container-id-5 div.sk-estimator {font-family: monospace;background-color: #f0f8ff;border: 1px dotted black;border-radius: 0.25em;box-sizing: border-box;margin-bottom: 0.5em;}#sk-container-id-5 div.sk-estimator:hover {background-color: #d4ebff;}#sk-container-id-5 div.sk-parallel-item::after {content: \"\";width: 100%;border-bottom: 1px solid gray;flex-grow: 1;}#sk-container-id-5 div.sk-label:hover label.sk-toggleable__label {background-color: #d4ebff;}#sk-container-id-5 div.sk-serial::before {content: \"\";position: absolute;border-left: 1px solid gray;box-sizing: border-box;top: 0;bottom: 0;left: 50%;z-index: 0;}#sk-container-id-5 div.sk-serial {display: flex;flex-direction: column;align-items: center;background-color: white;padding-right: 0.2em;padding-left: 0.2em;position: relative;}#sk-container-id-5 div.sk-item {position: relative;z-index: 1;}#sk-container-id-5 div.sk-parallel {display: flex;align-items: stretch;justify-content: center;background-color: white;position: relative;}#sk-container-id-5 div.sk-item::before, #sk-container-id-5 div.sk-parallel-item::before {content: \"\";position: absolute;border-left: 1px solid gray;box-sizing: border-box;top: 0;bottom: 0;left: 50%;z-index: -1;}#sk-container-id-5 div.sk-parallel-item {display: flex;flex-direction: column;z-index: 1;position: relative;background-color: white;}#sk-container-id-5 div.sk-parallel-item:first-child::after {align-self: flex-end;width: 50%;}#sk-container-id-5 div.sk-parallel-item:last-child::after {align-self: flex-start;width: 50%;}#sk-container-id-5 div.sk-parallel-item:only-child::after {width: 0;}#sk-container-id-5 div.sk-dashed-wrapped {border: 1px dashed gray;margin: 0 0.4em 0.5em 0.4em;box-sizing: border-box;padding-bottom: 0.4em;background-color: white;}#sk-container-id-5 div.sk-label label {font-family: monospace;font-weight: bold;display: inline-block;line-height: 1.2em;}#sk-container-id-5 div.sk-label-container {text-align: center;}#sk-container-id-5 div.sk-container {/* jupyter's `normalize.less` sets `[hidden] { display: none; }` but bootstrap.min.css set `[hidden] { display: none !important; }` so we also need the `!important` here to be able to override the default hidden behavior on the sphinx rendered scikit-learn.org. See: https://github.com/scikit-learn/scikit-learn/issues/21755 */display: inline-block !important;position: relative;}#sk-container-id-5 div.sk-text-repr-fallback {display: none;}</style><div id=\"sk-container-id-5\" class=\"sk-top-container\"><div class=\"sk-text-repr-fallback\"><pre>MultinomialNB()</pre><b>In a Jupyter environment, please rerun this cell to show the HTML representation or trust the notebook. <br />On GitHub, the HTML representation is unable to render, please try loading this page with nbviewer.org.</b></div><div class=\"sk-container\" hidden><div class=\"sk-item\"><div class=\"sk-estimator sk-toggleable\"><input class=\"sk-toggleable__control sk-hidden--visually\" id=\"sk-estimator-id-5\" type=\"checkbox\" checked><label for=\"sk-estimator-id-5\" class=\"sk-toggleable__label sk-toggleable__label-arrow\">MultinomialNB</label><div class=\"sk-toggleable__content\"><pre>MultinomialNB()</pre></div></div></div></div></div>"
      ],
      "text/plain": [
       "MultinomialNB()"
      ]
     },
     "execution_count": 48,
     "metadata": {},
     "output_type": "execute_result"
    }
   ],
   "source": [
    "nb_classifier.fit(X_train_vector_cv.toarray(), y_train) # Fitting our data and training our model"
   ]
  },
  {
   "cell_type": "code",
   "execution_count": 49,
   "id": "7cd610b8-f8d2-4620-aa56-e9f9640d6242",
   "metadata": {},
   "outputs": [
    {
     "data": {
      "text/plain": [
       "array([0, 0, 1, 1, 0, 0, 1, 1, 0, 0], dtype=uint8)"
      ]
     },
     "execution_count": 49,
     "metadata": {},
     "output_type": "execute_result"
    }
   ],
   "source": [
    "nb_pred = nb_classifier.predict(X_test_vector_cv.toarray())\n",
    "nb_pred[:10]"
   ]
  },
  {
   "cell_type": "code",
   "execution_count": 50,
   "id": "b9920a50-78e7-41ea-9723-bf1582ea0f2f",
   "metadata": {
    "tags": []
   },
   "outputs": [
    {
     "name": "stdout",
     "output_type": "stream",
     "text": [
      "              precision    recall  f1-score   support\n",
      "\n",
      "           0       0.72      0.85      0.78      2169\n",
      "           1       0.73      0.55      0.63      1611\n",
      "\n",
      "    accuracy                           0.72      3780\n",
      "   macro avg       0.72      0.70      0.70      3780\n",
      "weighted avg       0.72      0.72      0.71      3780\n",
      "\n"
     ]
    },
    {
     "data": {
      "image/png": "[encoded data removed]",
      "text/plain": [
       "<Figure size 432x288 with 2 Axes>"
      ]
     },
     "metadata": {
      "needs_background": "light"
     },
     "output_type": "display_data"
    }
   ],
   "source": [
    "# Visualizing our model performance\n",
    "\n",
    "print(classification_report(y_test, nb_pred))\n",
    "\n",
    "cm_nb = confusion_matrix(y_test, nb_pred)\n",
    "\n",
    "ConfusionMatrixDisplay(confusion_matrix = cm_nb, display_labels = nb_classifier.classes_).plot()\n",
    "plt.show()"
   ]
  },
  {
   "cell_type": "code",
   "execution_count": 51,
   "id": "45152fc2-b4b8-4f32-9c5e-2f61c9bbc516",
   "metadata": {},
   "outputs": [
    {
     "data": {
      "text/html": [
       "<style>#sk-container-id-6 {color: black;background-color: white;}#sk-container-id-6 pre{padding: 0;}#sk-container-id-6 div.sk-toggleable {background-color: white;}#sk-container-id-6 label.sk-toggleable__label {cursor: pointer;display: block;width: 100%;margin-bottom: 0;padding: 0.3em;box-sizing: border-box;text-align: center;}#sk-container-id-6 label.sk-toggleable__label-arrow:before {content: \"▸\";float: left;margin-right: 0.25em;color: #696969;}#sk-container-id-6 label.sk-toggleable__label-arrow:hover:before {color: black;}#sk-container-id-6 div.sk-estimator:hover label.sk-toggleable__label-arrow:before {color: black;}#sk-container-id-6 div.sk-toggleable__content {max-height: 0;max-width: 0;overflow: hidden;text-align: left;background-color: #f0f8ff;}#sk-container-id-6 div.sk-toggleable__content pre {margin: 0.2em;color: black;border-radius: 0.25em;background-color: #f0f8ff;}#sk-container-id-6 input.sk-toggleable__control:checked~div.sk-toggleable__content {max-height: 200px;max-width: 100%;overflow: auto;}#sk-container-id-6 input.sk-toggleable__control:checked~label.sk-toggleable__label-arrow:before {content: \"▾\";}#sk-container-id-6 div.sk-estimator input.sk-toggleable__control:checked~label.sk-toggleable__label {background-color: #d4ebff;}#sk-container-id-6 div.sk-label input.sk-toggleable__control:checked~label.sk-toggleable__label {background-color: #d4ebff;}#sk-container-id-6 input.sk-hidden--visually {border: 0;clip: rect(1px 1px 1px 1px);clip: rect(1px, 1px, 1px, 1px);height: 1px;margin: -1px;overflow: hidden;padding: 0;position: absolute;width: 1px;}#sk-container-id-6 div.sk-estimator {font-family: monospace;background-color: #f0f8ff;border: 1px dotted black;border-radius: 0.25em;box-sizing: border-box;margin-bottom: 0.5em;}#sk-container-id-6 div.sk-estimator:hover {background-color: #d4ebff;}#sk-container-id-6 div.sk-parallel-item::after {content: \"\";width: 100%;border-bottom: 1px solid gray;flex-grow: 1;}#sk-container-id-6 div.sk-label:hover label.sk-toggleable__label {background-color: #d4ebff;}#sk-container-id-6 div.sk-serial::before {content: \"\";position: absolute;border-left: 1px solid gray;box-sizing: border-box;top: 0;bottom: 0;left: 50%;z-index: 0;}#sk-container-id-6 div.sk-serial {display: flex;flex-direction: column;align-items: center;background-color: white;padding-right: 0.2em;padding-left: 0.2em;position: relative;}#sk-container-id-6 div.sk-item {position: relative;z-index: 1;}#sk-container-id-6 div.sk-parallel {display: flex;align-items: stretch;justify-content: center;background-color: white;position: relative;}#sk-container-id-6 div.sk-item::before, #sk-container-id-6 div.sk-parallel-item::before {content: \"\";position: absolute;border-left: 1px solid gray;box-sizing: border-box;top: 0;bottom: 0;left: 50%;z-index: -1;}#sk-container-id-6 div.sk-parallel-item {display: flex;flex-direction: column;z-index: 1;position: relative;background-color: white;}#sk-container-id-6 div.sk-parallel-item:first-child::after {align-self: flex-end;width: 50%;}#sk-container-id-6 div.sk-parallel-item:last-child::after {align-self: flex-start;width: 50%;}#sk-container-id-6 div.sk-parallel-item:only-child::after {width: 0;}#sk-container-id-6 div.sk-dashed-wrapped {border: 1px dashed gray;margin: 0 0.4em 0.5em 0.4em;box-sizing: border-box;padding-bottom: 0.4em;background-color: white;}#sk-container-id-6 div.sk-label label {font-family: monospace;font-weight: bold;display: inline-block;line-height: 1.2em;}#sk-container-id-6 div.sk-label-container {text-align: center;}#sk-container-id-6 div.sk-container {/* jupyter's `normalize.less` sets `[hidden] { display: none; }` but bootstrap.min.css set `[hidden] { display: none !important; }` so we also need the `!important` here to be able to override the default hidden behavior on the sphinx rendered scikit-learn.org. See: https://github.com/scikit-learn/scikit-learn/issues/21755 */display: inline-block !important;position: relative;}#sk-container-id-6 div.sk-text-repr-fallback {display: none;}</style><div id=\"sk-container-id-6\" class=\"sk-top-container\"><div class=\"sk-text-repr-fallback\"><pre>MultinomialNB()</pre><b>In a Jupyter environment, please rerun this cell to show the HTML representation or trust the notebook. <br />On GitHub, the HTML representation is unable to render, please try loading this page with nbviewer.org.</b></div><div class=\"sk-container\" hidden><div class=\"sk-item\"><div class=\"sk-estimator sk-toggleable\"><input class=\"sk-toggleable__control sk-hidden--visually\" id=\"sk-estimator-id-6\" type=\"checkbox\" checked><label for=\"sk-estimator-id-6\" class=\"sk-toggleable__label sk-toggleable__label-arrow\">MultinomialNB</label><div class=\"sk-toggleable__content\"><pre>MultinomialNB()</pre></div></div></div></div></div>"
      ],
      "text/plain": [
       "MultinomialNB()"
      ]
     },
     "execution_count": 51,
     "metadata": {},
     "output_type": "execute_result"
    }
   ],
   "source": [
    "nb_classifier.fit(X_train_vector_Tf.toarray(), y_train) # Fitting our data and training our model"
   ]
  },
  {
   "cell_type": "code",
   "execution_count": 52,
   "id": "c8d1b29f-8cfa-4146-bd29-0f270cd9eafb",
   "metadata": {},
   "outputs": [
    {
     "data": {
      "text/plain": [
       "array([0, 0, 0, 0, 0, 0, 0, 0, 0, 0], dtype=uint8)"
      ]
     },
     "execution_count": 52,
     "metadata": {},
     "output_type": "execute_result"
    }
   ],
   "source": [
    "nb_pred_Tf = nb_classifier.predict(X_test_vector_Tf.toarray())\n",
    "nb_pred_Tf[:10]"
   ]
  },
  {
   "cell_type": "code",
   "execution_count": 53,
   "id": "b1ac3387-da47-4f50-b923-1f6b8de7c529",
   "metadata": {},
   "outputs": [
    {
     "name": "stdout",
     "output_type": "stream",
     "text": [
      "              precision    recall  f1-score   support\n",
      "\n",
      "           0       0.66      0.96      0.78      2169\n",
      "           1       0.87      0.33      0.48      1611\n",
      "\n",
      "    accuracy                           0.69      3780\n",
      "   macro avg       0.77      0.65      0.63      3780\n",
      "weighted avg       0.75      0.69      0.66      3780\n",
      "\n"
     ]
    },
    {
     "data": {
      "image/png": "[encoded data removed]",
      "text/plain": [
       "<Figure size 432x288 with 2 Axes>"
      ]
     },
     "metadata": {
      "needs_background": "light"
     },
     "output_type": "display_data"
    }
   ],
   "source": [
    "# Visualizing our model performance\n",
    "\n",
    "print(classification_report(y_test, nb_pred_Tf))\n",
    "\n",
    "cm_nb = confusion_matrix(y_test, nb_pred_Tf)\n",
    "\n",
    "ConfusionMatrixDisplay(confusion_matrix = cm_nb, display_labels = nb_classifier.classes_).plot()\n",
    "plt.show()"
   ]
  },
  {
   "cell_type": "markdown",
   "id": "b2cc2469-0db5-4abf-ae30-33ec68f848de",
   "metadata": {},
   "source": [
    "<font size=\"4\">\n",
    "----------------------------------------------------------------------------------------------------------------------------------------------\n",
    "The accuracy of our model seems to have increased, but our evaluation-metric \"Recall\" seems to be much lower than before, so this model is not Ideal for our use case.\n",
    "</font>"
   ]
  },
  {
   "cell_type": "markdown",
   "id": "012dff73-d6b7-4013-9428-3f56b44edfd8",
   "metadata": {
    "tags": []
   },
   "source": [
    "## Deep learning models"
   ]
  },
  {
   "cell_type": "code",
   "execution_count": 54,
   "id": "e16699f1-c935-4df3-9a14-6d3b2abf6e5c",
   "metadata": {},
   "outputs": [],
   "source": [
    "from keras.models import Model, Sequential\n",
    "from keras import layers\n",
    "from keras.layers import LSTM, Activation, Dense, Dropout, Input, Embedding\n",
    "from keras.preprocessing.text import Tokenizer\n",
    "from keras.preprocessing import sequence\n",
    "from keras.utils import to_categorical\n",
    "from keras.utils import pad_sequences\n",
    "from keras.metrics import Recall\n",
    "from keras.optimizers import Adam"
   ]
  },
  {
   "cell_type": "code",
   "execution_count": 55,
   "id": "75cbcc48-683e-42de-87c6-9287a11bab39",
   "metadata": {},
   "outputs": [],
   "source": [
    "# Tokenizing the train data and converting into sequences with padding\n",
    "max_words = 1000\n",
    "max_len = 150\n",
    "tok = Tokenizer(num_words = max_words)\n",
    "tok.fit_on_texts(X_train)\n",
    "sequences = tok.texts_to_sequences(X_train)\n",
    "sequences_matrix = pad_sequences(sequences, maxlen = max_len)"
   ]
  },
  {
   "cell_type": "markdown",
   "id": "00904c7b-de2f-43ed-ad97-69b8add61ef6",
   "metadata": {},
   "source": [
    "### LSTM"
   ]
  },
  {
   "cell_type": "code",
   "execution_count": 56,
   "id": "2dd0534e-e149-4761-a1c6-697eb97f8c89",
   "metadata": {},
   "outputs": [],
   "source": [
    "# Defining our model\n",
    "def model():\n",
    "    inputs = Input(name='inputs',shape = [max_len])\n",
    "    layer = Embedding(max_words,50,input_length = max_len)(inputs)\n",
    "    layer = LSTM(64)(layer)\n",
    "    layer = Dense(128,name = 'FC1')(layer)\n",
    "    layer = Activation('relu')(layer)\n",
    "    # layer = Dropout(0.5)(layer)\n",
    "    layer = Dense(1,name = 'out_layer')(layer)\n",
    "    layer = Activation('sigmoid')(layer)\n",
    "    model = Model(inputs = inputs,outputs = layer)\n",
    "    \n",
    "    return model"
   ]
  },
  {
   "cell_type": "code",
   "execution_count": 57,
   "id": "35be2d1d-bc92-4f70-aff7-a76ba5e499db",
   "metadata": {},
   "outputs": [
    {
     "name": "stdout",
     "output_type": "stream",
     "text": [
      "Model: \"model\"\n",
      "_________________________________________________________________\n",
      " Layer (type)                Output Shape              Param #   \n",
      "=================================================================\n",
      " inputs (InputLayer)         [(None, 150)]             0         \n",
      "                                                                 \n",
      " embedding (Embedding)       (None, 150, 50)           50000     \n",
      "                                                                 \n",
      " lstm (LSTM)                 (None, 64)                29440     \n",
      "                                                                 \n",
      " FC1 (Dense)                 (None, 128)               8320      \n",
      "                                                                 \n",
      " activation (Activation)     (None, 128)               0         \n",
      "                                                                 \n",
      " out_layer (Dense)           (None, 1)                 129       \n",
      "                                                                 \n",
      " activation_1 (Activation)   (None, 1)                 0         \n",
      "                                                                 \n",
      "=================================================================\n",
      "Total params: 87,889\n",
      "Trainable params: 87,889\n",
      "Non-trainable params: 0\n",
      "_________________________________________________________________\n"
     ]
    }
   ],
   "source": [
    "# compiling the model\n",
    "lstm_model = model()\n",
    "lstm_model.summary()\n",
    "lstm_model.compile(loss = 'binary_crossentropy', optimizer = Adam(learning_rate = 0.00005),metrics = ['accuracy', Recall()])"
   ]
  },
  {
   "cell_type": "code",
   "execution_count": 58,
   "id": "a46eca60-8439-4892-b2ca-09dd5c1f34ea",
   "metadata": {},
   "outputs": [
    {
     "name": "stdout",
     "output_type": "stream",
     "text": [
      "Epoch 1/10\n",
      "189/189 [==============================] - 15s 61ms/step - loss: 1.0893 - accuracy: 0.4071 - recall: 0.9931 - val_loss: 0.7746 - val_accuracy: 0.4170 - val_recall: 1.0000\n",
      "Epoch 2/10\n",
      "189/189 [==============================] - 11s 59ms/step - loss: 1.0605 - accuracy: 0.4059 - recall: 1.0000 - val_loss: 0.7662 - val_accuracy: 0.4170 - val_recall: 1.0000\n",
      "Epoch 3/10\n",
      "189/189 [==============================] - 12s 62ms/step - loss: 1.0557 - accuracy: 0.4059 - recall: 1.0000 - val_loss: 0.7799 - val_accuracy: 0.4170 - val_recall: 1.0000\n",
      "Epoch 4/10\n",
      "189/189 [==============================] - 12s 63ms/step - loss: 1.0457 - accuracy: 0.4059 - recall: 1.0000 - val_loss: 0.7698 - val_accuracy: 0.4170 - val_recall: 1.0000\n",
      "Epoch 5/10\n",
      "189/189 [==============================] - 12s 65ms/step - loss: 1.0227 - accuracy: 0.4059 - recall: 1.0000 - val_loss: 0.7296 - val_accuracy: 0.4170 - val_recall: 1.0000\n",
      "Epoch 6/10\n",
      "189/189 [==============================] - 12s 66ms/step - loss: 0.9837 - accuracy: 0.4598 - recall: 0.9778 - val_loss: 0.6781 - val_accuracy: 0.5701 - val_recall: 0.9056\n",
      "Epoch 7/10\n",
      "189/189 [==============================] - 12s 64ms/step - loss: 0.9316 - accuracy: 0.5604 - recall: 0.9305 - val_loss: 0.6403 - val_accuracy: 0.6515 - val_recall: 0.8438\n",
      "Epoch 8/10\n",
      "189/189 [==============================] - 12s 65ms/step - loss: 0.8732 - accuracy: 0.6473 - recall: 0.8814 - val_loss: 0.6662 - val_accuracy: 0.6078 - val_recall: 0.8985\n",
      "Epoch 9/10\n",
      "189/189 [==============================] - 12s 64ms/step - loss: 0.8283 - accuracy: 0.6939 - recall: 0.8562 - val_loss: 0.6008 - val_accuracy: 0.7090 - val_recall: 0.8002\n",
      "Epoch 10/10\n",
      "189/189 [==============================] - 12s 65ms/step - loss: 0.8012 - accuracy: 0.7205 - recall: 0.8405 - val_loss: 0.5867 - val_accuracy: 0.7179 - val_recall: 0.7787\n"
     ]
    }
   ],
   "source": [
    "# Fitting our data to the model with Recall as the evalution metric\n",
    "history_lstm = lstm_model.fit(sequences_matrix, y_train, batch_size = 64, epochs = 10, validation_split = 0.2 , class_weight = {0:1, 1:2.5})"
   ]
  },
  {
   "cell_type": "code",
   "execution_count": 59,
   "id": "8294e13b-c841-489d-8830-a369ac38ed6e",
   "metadata": {},
   "outputs": [],
   "source": [
    "test_sequences = tok.texts_to_sequences(X_test)\n",
    "test_sequences_matrix = pad_sequences(test_sequences, maxlen = max_len)"
   ]
  },
  {
   "cell_type": "code",
   "execution_count": 60,
   "id": "dfd6ec3b-5276-4e96-b979-ffdd8fa62cfc",
   "metadata": {},
   "outputs": [
    {
     "name": "stdout",
     "output_type": "stream",
     "text": [
      "119/119 [==============================] - 1s 12ms/step - loss: 0.5806 - accuracy: 0.7135 - recall: 0.7635\n"
     ]
    },
    {
     "data": {
      "text/plain": [
       "[0.5806441903114319, 0.7134920358657837, 0.7635009288787842]"
      ]
     },
     "execution_count": 60,
     "metadata": {},
     "output_type": "execute_result"
    }
   ],
   "source": [
    "lstm_model.evaluate(test_sequences_matrix, y_test)# evaluating on test data"
   ]
  },
  {
   "cell_type": "code",
   "execution_count": 61,
   "id": "d8f7c4f4-ef55-41a3-9492-cea757cfb7bc",
   "metadata": {},
   "outputs": [
    {
     "name": "stdout",
     "output_type": "stream",
     "text": [
      "dict_keys(['loss', 'accuracy', 'recall', 'val_loss', 'val_accuracy', 'val_recall'])\n"
     ]
    },
    {
     "data": {
      "image/png": "[encoded data removed]",
      "text/plain": [
       "<Figure size 432x288 with 1 Axes>"
      ]
     },
     "metadata": {
      "needs_background": "light"
     },
     "output_type": "display_data"
    },
    {
     "data": {
      "image/png": "[encoded data removed]",
      "text/plain": [
       "<Figure size 432x288 with 1 Axes>"
      ]
     },
     "metadata": {
      "needs_background": "light"
     },
     "output_type": "display_data"
    },
    {
     "data": {
      "image/png": "[encoded data removed]",
      "text/plain": [
       "<Figure size 432x288 with 1 Axes>"
      ]
     },
     "metadata": {
      "needs_background": "light"
     },
     "output_type": "display_data"
    }
   ],
   "source": [
    "print(history_lstm.history.keys())\n",
    "# summarize history for accuracy\n",
    "plt.plot(history_lstm.history['accuracy'])\n",
    "plt.plot(history_lstm.history['val_accuracy'])\n",
    "plt.title('model accuracy')\n",
    "plt.ylabel('accuracy')\n",
    "plt.xlabel('epoch')\n",
    "plt.legend(['train', 'validation'], loc='upper left')\n",
    "plt.show()\n",
    "# summarize history for recall\n",
    "plt.plot(history_lstm.history['recall'])\n",
    "plt.plot(history_lstm.history['val_recall'])\n",
    "plt.title('model recall')\n",
    "plt.ylabel('recall')\n",
    "plt.xlabel('epoch')\n",
    "plt.legend(['train', 'validation'], loc = 'upper left')\n",
    "plt.show()\n",
    "# summarize history for loss\n",
    "plt.plot(history_lstm.history['loss'])\n",
    "plt.plot(history_lstm.history['val_loss'])\n",
    "plt.title('model loss')\n",
    "plt.ylabel('loss')\n",
    "plt.xlabel('epoch')\n",
    "plt.legend(['train', 'validation'], loc='upper left')\n",
    "plt.show()"
   ]
  },
  {
   "cell_type": "markdown",
   "id": "188fa00d-b025-4a2e-8c5d-42222f5d51fc",
   "metadata": {},
   "source": [
    "<font size=\"4\">\n",
    "----------------------------------------------------------------------------------------------------------------------------------------------\n",
    "This seems to be the best model so far, I assigned higher weights for the 'negative' sentiment to convey to the algorithm to focus more on this class. \n",
    "We can't increase the weights too much because that would bring down the accuracy of model which isn't the best thing to do. \n",
    "</font>"
   ]
  },
  {
   "cell_type": "markdown",
   "id": "f71d2085-6c36-4d34-a764-3675c4d8e212",
   "metadata": {
    "tags": []
   },
   "source": [
    "## ---------------------------------------------------------------------------------------------------------\n",
    "\n",
    "## Conclusion:\n",
    "## So, after using all these different models the LSTM model gives the best result, it still can be improved with maybe making the model more complex by adding more neurons, making the model deeper or maybe some hyper-parameter tuning and running it for longer. \n",
    "\n",
    "## We could also try using different models like Bi-directional LSTM, CNN or maybe even some transfer-learning with pretrained models like BERT.\n",
    "\n",
    "## Machine learning is a never ending practice we can always try to improve the results, so we have stop at some point and consider the time and resourses spent on a project and i think this is a good point to end for now."
   ]
  }
 ],
 "metadata": {
  "kernelspec": {
   "display_name": "Python [conda env:NLP]",
   "language": "python",
   "name": "conda-env-NLP-py"
  },
  "language_info": {
   "codemirror_mode": {
    "name": "ipython",
    "version": 3
   },
   "file_extension": ".py",
   "mimetype": "text/x-python",
   "name": "python",
   "nbconvert_exporter": "python",
   "pygments_lexer": "ipython3",
   "version": "3.9.12"
  }
 },
 "nbformat": 4,
 "nbformat_minor": 5
}
